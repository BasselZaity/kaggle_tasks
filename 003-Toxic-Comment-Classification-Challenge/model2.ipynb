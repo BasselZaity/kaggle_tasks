{
 "cells": [
  {
   "cell_type": "markdown",
   "metadata": {},
   "source": [
    "# Model 2\n",
    "\n",
    "using bag of words\n",
    "\n",
    "## Processed data 2.0\n",
    "\n",
    "- Tokenization (TreeBankWordTockenizer)\n",
    "- Lemmatizer (WordNet)\n",
    "\n",
    "## Features\n",
    "\n",
    "- TfidfVectorizer \n",
    "- unigram and bigram\n",
    "- min df = 5\n",
    "- max df = 0.5\n",
    "\n",
    "\n",
    "## models\n",
    "- 2.1 Binary regression\n",
    "- 2.2 SVM"
   ]
  },
  {
   "cell_type": "code",
   "execution_count": 1,
   "metadata": {
    "collapsed": true
   },
   "outputs": [],
   "source": [
    "import pandas as pd\n",
    "import numpy as np"
   ]
  },
  {
   "cell_type": "code",
   "execution_count": 3,
   "metadata": {
    "collapsed": true
   },
   "outputs": [],
   "source": [
    "train=pd.read_csv('data/train_processed_2.0.csv')\n",
    "test=pd.read_csv('data/test_processed_2.0.csv')"
   ]
  },
  {
   "cell_type": "code",
   "execution_count": 4,
   "metadata": {
    "collapsed": true
   },
   "outputs": [],
   "source": [
    "classes=['toxic','severe_toxic','obscene','threat','insult','identity_hate']\n",
    "y=train[classes]"
   ]
  },
  {
   "cell_type": "code",
   "execution_count": 5,
   "metadata": {
    "collapsed": true
   },
   "outputs": [],
   "source": [
    "from sklearn.feature_extraction.text import TfidfVectorizer\n",
    "tf_idf=TfidfVectorizer(min_df=5,max_df=0.5,ngram_range=(1,2))"
   ]
  },
  {
   "cell_type": "code",
   "execution_count": 6,
   "metadata": {
    "collapsed": true
   },
   "outputs": [],
   "source": [
    "features=tf_idf.fit_transform(train.comment_text)"
   ]
  },
  {
   "cell_type": "code",
   "execution_count": 7,
   "metadata": {
    "collapsed": false
   },
   "outputs": [],
   "source": [
    "testFeatures=tf_idf.transform(test.comment_text)"
   ]
  },
  {
   "cell_type": "code",
   "execution_count": 8,
   "metadata": {
    "collapsed": false
   },
   "outputs": [
    {
     "data": {
      "text/plain": [
       "((159571, 225795), (159571,))"
      ]
     },
     "execution_count": 8,
     "metadata": {},
     "output_type": "execute_result"
    }
   ],
   "source": [
    "features.shape,y.iloc[:,0].shape"
   ]
  },
  {
   "cell_type": "markdown",
   "metadata": {},
   "source": [
    "### Linear Regression\n",
    "\n",
    "score : 0.9744"
   ]
  },
  {
   "cell_type": "code",
   "execution_count": 10,
   "metadata": {
    "collapsed": false
   },
   "outputs": [],
   "source": [
    "from sklearn.linear_model import LogisticRegression\n",
    "clfs=[]\n",
    "for c in range(6):\n",
    "    clf=LogisticRegression()\n",
    "    clf.fit(features,y.iloc[:,c])\n",
    "    clfs.append(clf)"
   ]
  },
  {
   "cell_type": "code",
   "execution_count": 11,
   "metadata": {
    "collapsed": false
   },
   "outputs": [],
   "source": [
    "pred1=pd.read_csv('./data/sample_submission.csv')\n",
    "for c in range(6):\n",
    "    ypred=clfs[c].predict_proba(testFeatures)[:,1]\n",
    "    pred1.iloc[:,c+1]=ypred"
   ]
  },
  {
   "cell_type": "code",
   "execution_count": 12,
   "metadata": {
    "collapsed": false
   },
   "outputs": [],
   "source": [
    "pred1.to_csv('output/model2.0.1.csv',index=False)"
   ]
  },
  {
   "cell_type": "markdown",
   "metadata": {},
   "source": [
    "### LinearSVC  \n",
    "\n",
    "score : 0.9727\n"
   ]
  },
  {
   "cell_type": "code",
   "execution_count": 13,
   "metadata": {
    "collapsed": false
   },
   "outputs": [
    {
     "name": "stdout",
     "output_type": "stream",
     "text": [
      "0 started\n",
      "0 ended\n",
      "1 started\n",
      "1 ended\n",
      "2 started\n",
      "2 ended\n",
      "3 started\n",
      "3 ended\n",
      "4 started\n",
      "4 ended\n",
      "5 started\n",
      "5 ended\n"
     ]
    }
   ],
   "source": [
    "from sklearn.svm import LinearSVC\n",
    "from sklearn.calibration import CalibratedClassifierCV\n",
    "svm_clfs=[]\n",
    "for c in range(6):\n",
    "    print c,'started'\n",
    "    clf=CalibratedClassifierCV(LinearSVC())\n",
    "    clf.fit(features,y.iloc[:,c])\n",
    "    svm_clfs.append(clf)\n",
    "    print c,'ended'"
   ]
  },
  {
   "cell_type": "code",
   "execution_count": 14,
   "metadata": {
    "collapsed": false
   },
   "outputs": [],
   "source": [
    "pred2=pd.read_csv('./data/sample_submission.csv')\n",
    "for c in range(6):\n",
    "    ypred=svm_clfs[c].predict_proba(testFeatures)[:,1]\n",
    "    pred2.iloc[:,c+1]=ypred"
   ]
  },
  {
   "cell_type": "code",
   "execution_count": 15,
   "metadata": {
    "collapsed": false
   },
   "outputs": [],
   "source": [
    "pred2.to_csv('output/model2.0.2.csv',index=False)"
   ]
  }
 ],
 "metadata": {
  "kernelspec": {
   "display_name": "Python 2",
   "language": "python",
   "name": "python2"
  },
  "language_info": {
   "codemirror_mode": {
    "name": "ipython",
    "version": 2
   },
   "file_extension": ".py",
   "mimetype": "text/x-python",
   "name": "python",
   "nbconvert_exporter": "python",
   "pygments_lexer": "ipython2",
   "version": "2.7.11"
  }
 },
 "nbformat": 4,
 "nbformat_minor": 0
}
