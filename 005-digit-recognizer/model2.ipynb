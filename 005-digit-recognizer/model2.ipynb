{
 "cells": [
  {
   "cell_type": "markdown",
   "metadata": {},
   "source": [
    "# MINSET digin recognizer using MLP\n",
    "#### generalization score 0.94957 "
   ]
  },
  {
   "cell_type": "code",
   "execution_count": 1,
   "metadata": {
    "collapsed": false
   },
   "outputs": [],
   "source": [
    "from sklearn.metrics import accuracy_score\n",
    "from sklearn.preprocessing import OneHotEncoder\n",
    "from sklearn.model_selection import train_test_split\n",
    "import tensorflow as tf\n",
    "import pandas as pd\n",
    "import numpy as np\n",
    "from matplotlib import pyplot as plt"
   ]
  },
  {
   "cell_type": "code",
   "execution_count": 2,
   "metadata": {
    "collapsed": true
   },
   "outputs": [],
   "source": [
    "#helpers\n",
    "def convert_to_one_hot(Y, C):\n",
    "    Y = np.eye(C)[Y.reshape(-1)].T\n",
    "    return Y"
   ]
  },
  {
   "cell_type": "code",
   "execution_count": 3,
   "metadata": {
    "collapsed": false
   },
   "outputs": [],
   "source": [
    "train=pd.read_csv('./data/train.csv')\n",
    "test=pd.read_csv('./data/test.csv')"
   ]
  },
  {
   "cell_type": "code",
   "execution_count": 4,
   "metadata": {
    "collapsed": false
   },
   "outputs": [],
   "source": [
    "trainLabels=train.label\n",
    "train.drop(\"label\",axis=1,inplace=True)\n",
    "\n",
    "train=train/256.0\n",
    "test=test/256.0\n",
    "Xtrain=train.as_matrix()\n",
    "Xtest=test.as_matrix()"
   ]
  },
  {
   "cell_type": "code",
   "execution_count": 5,
   "metadata": {
    "collapsed": false
   },
   "outputs": [
    {
     "name": "stdout",
     "output_type": "stream",
     "text": [
      "(42000, 784) (42000,)\n"
     ]
    }
   ],
   "source": [
    "print( Xtrain.shape, trainLabels.shape)"
   ]
  },
  {
   "cell_type": "code",
   "execution_count": 6,
   "metadata": {
    "collapsed": false
   },
   "outputs": [
    {
     "name": "stderr",
     "output_type": "stream",
     "text": [
      "/home/zein/.local/lib/python3.5/site-packages/ipykernel_launcher.py:3: FutureWarning: reshape is deprecated and will raise in a subsequent release. Please use .values.reshape(...) instead\n",
      "  This is separate from the ipykernel package so we can avoid doing imports until\n"
     ]
    }
   ],
   "source": [
    "Xtrain, Xval, trainLabels, valLabels = train_test_split( Xtrain, trainLabels, test_size=0.1,shuffle=True)\n",
    "ytrain=convert_to_one_hot(trainLabels,10).T\n",
    "yval=convert_to_one_hot(valLabels,10).T"
   ]
  },
  {
   "cell_type": "code",
   "execution_count": 7,
   "metadata": {
    "collapsed": true
   },
   "outputs": [],
   "source": [
    "sess = tf.InteractiveSession()"
   ]
  },
  {
   "cell_type": "code",
   "execution_count": 8,
   "metadata": {
    "collapsed": false
   },
   "outputs": [],
   "source": [
    "# Define structure of the MLP\n",
    "input_X = tf.placeholder(tf.float32, shape=(None,28*28))\n",
    "input_y = tf.placeholder(tf.float32, shape=(None,10))\n",
    "W1 = tf.get_variable(\"W1\",[28*28,25],initializer=tf.contrib.layers.xavier_initializer(seed=1))\n",
    "b1 = tf.get_variable(\"b1\",[1,25],initializer=tf.zeros_initializer())\n",
    "W2 = tf.get_variable(\"W2\",[25,12],initializer=tf.contrib.layers.xavier_initializer(seed=1))\n",
    "b2 = tf.get_variable(\"b2\",[1,12],initializer=tf.zeros_initializer())\n",
    "W3 = tf.get_variable(\"W3\",[12,10],initializer=tf.contrib.layers.xavier_initializer(seed=1))\n",
    "b3 = tf.get_variable(\"b3\",[1,10],initializer=tf.zeros_initializer())\n",
    "\n",
    "# Forward propagation\n",
    "a1=tf.nn.relu(tf.add(tf.matmul(input_X,W1),b1))\n",
    "a2=tf.nn.relu(tf.add(tf.matmul(a1,W2),b2))\n",
    "predicted_y=tf.nn.sigmoid(tf.add(tf.matmul(a2,W3),b3))\n",
    "cost=tf.reduce_mean(tf.nn.softmax_cross_entropy_with_logits_v2(logits=predicted_y,labels=input_y))\n",
    "\n",
    "# Backpropogation\n",
    "optimizer = tf.train.AdamOptimizer(learning_rate = 0.001).minimize(cost)\n",
    "\n",
    "# Initialize all the variables\n",
    "init = tf.global_variables_initializer()\n",
    "sess.run(init)"
   ]
  },
  {
   "cell_type": "code",
   "execution_count": 9,
   "metadata": {
    "collapsed": false
   },
   "outputs": [
    {
     "data": {
      "text/plain": [
       "((37800, 784), (37800, 10), (4200, 784), (4200, 10))"
      ]
     },
     "execution_count": 9,
     "metadata": {},
     "output_type": "execute_result"
    }
   ],
   "source": [
    "Xtrain.shape,ytrain.shape,Xval.shape,yval.shape"
   ]
  },
  {
   "cell_type": "code",
   "execution_count": 10,
   "metadata": {
    "collapsed": false
   },
   "outputs": [
    {
     "name": "stdout",
     "output_type": "stream",
     "text": [
      "Cost in iteration #0 = 1.716831913050863\n",
      "Cost in iteration #10 = 1.5036732819681442\n",
      "Cost in iteration #20 = 1.4921106753615558\n",
      "Cost in iteration #30 = 1.4874627356198435\n",
      "Cost in iteration #40 = 1.4847164680510003\n",
      "Cost in iteration #50 = 1.4831838565429456\n",
      "Cost in iteration #60 = 1.4823658030650337\n",
      "Cost in iteration #70 = 1.4814946956037467\n",
      "Cost in iteration #80 = 1.4800235741029537\n",
      "Cost in iteration #90 = 1.479460822749259\n",
      "Cost in iteration #100 = 1.4791898311898994\n",
      "CPU times: user 3min 1s, sys: 15.2 s, total: 3min 17s\n",
      "Wall time: 1min 53s\n"
     ]
    }
   ],
   "source": [
    "%%time\n",
    "# Train the network\n",
    "N=Xtrain.shape[0] #number of training examples\n",
    "costs=[]\n",
    "train_acc=[]\n",
    "valid_acc=[]\n",
    "\n",
    "for iteration in range(101):\n",
    "    sm=0\n",
    "    k=0\n",
    "    for i in range(0,N,64):\n",
    "        _ , patch_cost = sess.run([optimizer,cost],feed_dict={input_X:Xtrain[i:i+64,:],input_y:ytrain[i:i+64,:]})\n",
    "        k+=1\n",
    "        sm+=patch_cost\n",
    "        \n",
    "    # calculate train accuracy\n",
    "    trainpred=np.argmax(sess.run(predicted_y,feed_dict={input_X:Xtrain}),axis=1)\n",
    "    acc1=accuracy_score(trainpred,trainLabels)\n",
    "    train_acc.append(1-acc1)\n",
    "    \n",
    "    # calculate test accuracy\n",
    "    validpred=np.argmax(sess.run(predicted_y,feed_dict={input_X:Xval}),axis=1)\n",
    "    acc2=accuracy_score(validpred,valLabels)\n",
    "    valid_acc.append(1-acc2)\n",
    "    \n",
    "    if iteration%10==0:\n",
    "        print(\"Cost in iteration #{} = {}\".format(iteration,sm/k))\n",
    "    costs.append(sm/k)"
   ]
  },
  {
   "cell_type": "code",
   "execution_count": 11,
   "metadata": {
    "collapsed": false
   },
   "outputs": [
    {
     "data": {
      "image/png": "[encoded data removed]",
      "text/plain": [
       "<Figure size 432x288 with 1 Axes>"
      ]
     },
     "metadata": {},
     "output_type": "display_data"
    },
    {
     "data": {
      "image/png": "[encoded data removed]",
      "text/plain": [
       "<Figure size 432x288 with 1 Axes>"
      ]
     },
     "metadata": {},
     "output_type": "display_data"
    }
   ],
   "source": [
    "plt.figure(\"Training costs\")\n",
    "plt.plot(costs)\n",
    "plt.xlabel('Iteration')\n",
    "plt.ylabel('Cost')\n",
    "plt.title(\"Cost per iteration\")\n",
    "plt.grid()\n",
    "\n",
    "plt.figure(\"Train/Validation Error\")\n",
    "plt.plot(train_acc)\n",
    "plt.plot(valid_acc)\n",
    "plt.xlabel('Iteration')\n",
    "plt.ylabel('Error')\n",
    "plt.title(\"Train/Validation Error per iteration\")\n",
    "plt.legend(['Train Error','Test Error'])\n",
    "plt.grid()"
   ]
  },
  {
   "cell_type": "code",
   "execution_count": 12,
   "metadata": {
    "collapsed": false
   },
   "outputs": [],
   "source": [
    "testpred=np.argmax(sess.run(predicted_y,feed_dict={input_X:Xtest}),axis=1)\n",
    "\n",
    "ids=np.arange(1,Xtest.shape[0]+1)\n",
    "df = pd.DataFrame({'ImageId':ids, 'Label': testpred.T})\n",
    "\n",
    "df.to_csv(\"output/model2.csv\", index=False)"
   ]
  }
 ],
 "metadata": {
  "kernelspec": {
   "display_name": "Python 3",
   "language": "python",
   "name": "python3"
  },
  "language_info": {
   "codemirror_mode": {
    "name": "ipython",
    "version": 3
   },
   "file_extension": ".py",
   "mimetype": "text/x-python",
   "name": "python",
   "nbconvert_exporter": "python",
   "pygments_lexer": "ipython3",
   "version": "3.5.2"
  }
 },
 "nbformat": 4,
 "nbformat_minor": 0
}
