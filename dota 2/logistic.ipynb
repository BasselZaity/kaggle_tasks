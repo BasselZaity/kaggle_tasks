{
 "cells": [
  {
   "cell_type": "markdown",
   "metadata": {},
   "source": [
    "# Logistic Regression"
   ]
  },
  {
   "cell_type": "markdown",
   "metadata": {},
   "source": [
    "Подход 2: логистическая регрессия\n",
    "Линейные методы работают гораздо быстрее композиций деревьев, поэтому кажется разумным воспользоваться именно ими для ускорения анализа данных. Одним из наиболее распространенных методов для классификации является логистическая регрессия.\n",
    "\n",
    "<hr>\n",
    "\n",
    "Approach 2: logistic regression\n",
    "Linear methods work much faster than tree compositions, so it seems reasonable to use them to speed up data analysis. One of the most common methods for classification is logistic regression.\n"
   ]
  },
  {
   "cell_type": "code",
   "execution_count": 1,
   "metadata": {},
   "outputs": [],
   "source": [
    "import pandas as pd\n",
    "import numpy as np"
   ]
  },
  {
   "cell_type": "code",
   "execution_count": 2,
   "metadata": {},
   "outputs": [],
   "source": [
    "data=pd.read_csv('./train_2.csv', index_col='match_id')\n",
    "test=pd.read_csv('./test_2.csv', index_col='match_id')\n",
    "y=data.radiant_win\n",
    "data.drop(\"radiant_win\",axis=1,inplace=True)"
   ]
  },
  {
   "cell_type": "markdown",
   "metadata": {},
   "source": [
    "Важно: не забывайте, что линейные алгоритмы чувствительны к масштабу признаков! Может пригодиться sklearn.preprocessing.StandartScaler."
   ]
  },
  {
   "cell_type": "code",
   "execution_count": 3,
   "metadata": {},
   "outputs": [],
   "source": [
    "from sklearn.preprocessing import StandardScaler\n",
    "scaler = StandardScaler()\n",
    "Xtrain = scaler.fit_transform(data)\n",
    "Xtest = scaler.transform(test)"
   ]
  },
  {
   "cell_type": "markdown",
   "metadata": {},
   "source": [
    "1- Evaluate the quality of logistic regression (sklearn.linear_model.LogisticRegression with L2-regularization) using cross-validation using the same scheme used for gradient boosting. Choose the best regularization parameter (C). What is the best quality you've got? How does it relate to the quality of gradient boosting? How can you explain this difference? Is logistic regression faster than gradient boosting?"
   ]
  },
  {
   "cell_type": "code",
   "execution_count": 5,
   "metadata": {},
   "outputs": [
    {
     "name": "stdout",
     "output_type": "stream",
     "text": [
      "0.001\n",
      "Time elapsed: 0:00:18.932617\n",
      "0.01\n",
      "Time elapsed: 0:00:24.183147\n",
      "0.1\n",
      "Time elapsed: 0:00:24.958520\n",
      "1\n",
      "Time elapsed: 0:00:25.377952\n",
      "10\n",
      "Time elapsed: 0:00:25.041222\n",
      "100\n",
      "Time elapsed: 0:00:25.450075\n",
      "1000\n",
      "Time elapsed: 0:00:25.127803\n"
     ]
    }
   ],
   "source": [
    "import time\n",
    "import datetime\n",
    "from sklearn.model_selection import KFold\n",
    "from sklearn.model_selection import cross_val_score\n",
    "from sklearn.linear_model import LogisticRegression\n",
    "\n",
    "cv = KFold(n_splits=5, shuffle=True, random_state=42)\n",
    "scoring='roc_auc'\n",
    "ansr=-1\n",
    "scores=[]\n",
    "for num in range(-3,4):\n",
    "    C=10**num\n",
    "    print C\n",
    "    start_time = datetime.datetime.now()\n",
    "    clf = LogisticRegression(random_state=42,C=C)\n",
    "    scr=cross_val_score(clf, Xtrain, y, cv=cv,scoring = scoring).mean()\n",
    "    scores.append(scr)\n",
    "    print 'Time elapsed:', datetime.datetime.now() - start_time"
   ]
  },
  {
   "cell_type": "code",
   "execution_count": 6,
   "metadata": {},
   "outputs": [
    {
     "name": "stdout",
     "output_type": "stream",
     "text": [
      "max accuracy for c=0.01, accuracy=0.753652099007\n"
     ]
    },
    {
     "data": {
      "text/plain": [
       "<matplotlib.figure.Figure at 0x7f96619bc710>"
      ]
     },
     "metadata": {},
     "output_type": "display_data"
    }
   ],
   "source": [
    "maxInd=np.array(scores).argmax()\n",
    "optC=10**(int(maxInd)-3)\n",
    "maxSc=scores[maxInd]\n",
    "print \"max accuracy for c={}, accuracy={}\".format(optC,maxSc)\n",
    "\n",
    "import matplotlib.pyplot as plt\n",
    "plt.plot(range(-3,4),scores)\n",
    "plt.xlabel('log10(C)')\n",
    "plt.ylabel('roc_auc accuracy')\n",
    "plt.grid()\n",
    "plt.show()"
   ]
  },
  {
   "cell_type": "markdown",
   "metadata": {},
   "source": [
    "<hr>\n",
    "2- Среди признаков в выборке есть категориальные, которые мы использовали как числовые, что вряд ли является хорошей идеей. Категориальных признаков в этой задаче одиннадцать: lobby_type и r1_hero, r2_hero, ..., r5_hero, d1_hero, d2_hero, ..., d5_hero. Уберите их из выборки, и проведите кросс-валидацию для логистической регрессии на новой выборке с подбором лучшего параметра регуляризации. Изменилось ли качество? Чем вы можете это объяснить?\n",
    "\n",
    "2- Among the characteristics in the sample are categorical, which we used as numeric, which is hardly a good idea. The categorical features in this task are eleven: lobby_type and r1_hero, r2_hero, ..., r5_hero, d1_hero, d2_hero, ..., d5_hero. Remove them from the sample, and perform cross-validation for logistic regression on a new sample with the selection of the best regularization parameter. Has the quality changed? How can you explain this?"
   ]
  },
  {
   "cell_type": "code",
   "execution_count": 6,
   "metadata": {},
   "outputs": [],
   "source": [
    "categorical=[\"r{}_hero\".format(i) for i in range(1,6)]\n",
    "categorical+=[\"d{}_hero\".format(i) for i in range(1,6)]\n",
    "categorical.append('lobby_type')\n",
    "clean_data=data.drop(categorical,axis=1)\n",
    "clean_test=test.drop(categorical,axis=1)"
   ]
  },
  {
   "cell_type": "code",
   "execution_count": 7,
   "metadata": {},
   "outputs": [],
   "source": [
    "from sklearn.preprocessing import StandardScaler\n",
    "scaler = StandardScaler()\n",
    "Xtrain = scaler.fit_transform(clean_data)\n",
    "Xtest = scaler.transform(clean_test)"
   ]
  },
  {
   "cell_type": "code",
   "execution_count": 8,
   "metadata": {},
   "outputs": [
    {
     "name": "stdout",
     "output_type": "stream",
     "text": [
      "0.001\n",
      "Time elapsed: 0:00:08.374539\n",
      "0.01\n",
      "Time elapsed: 0:00:10.898077\n",
      "0.1\n",
      "Time elapsed: 0:00:13.282407\n",
      "1\n",
      "Time elapsed: 0:00:12.270516\n",
      "10\n",
      "Time elapsed: 0:00:12.231184\n",
      "100\n",
      "Time elapsed: 0:00:12.565225\n",
      "1000\n",
      "Time elapsed: 0:00:12.938179\n"
     ]
    }
   ],
   "source": [
    "import time\n",
    "import datetime\n",
    "from sklearn.model_selection import KFold\n",
    "from sklearn.model_selection import cross_val_score\n",
    "from sklearn.linear_model import LogisticRegression\n",
    "\n",
    "cv = KFold(n_splits=5, shuffle=True, random_state=42)\n",
    "scoring='roc_auc'\n",
    "ansr=-1\n",
    "scores=[]\n",
    "for num in range(-3,4):\n",
    "    C=10**num\n",
    "    print C\n",
    "    start_time = datetime.datetime.now()\n",
    "    clf = LogisticRegression(random_state=42,C=C)\n",
    "    scr=cross_val_score(clf, Xtrain, y, cv=cv,scoring = scoring).mean()\n",
    "    scores.append(scr)\n",
    "    print 'Time elapsed:', datetime.datetime.now() - start_time"
   ]
  },
  {
   "cell_type": "code",
   "execution_count": 9,
   "metadata": {},
   "outputs": [
    {
     "name": "stdout",
     "output_type": "stream",
     "text": [
      "max accuracy for c=0.01, accuracy=0.716559388563\n"
     ]
    },
    {
     "data": {
      "image/png": "[encoded data removed]",
      "text/plain": [
       "<matplotlib.figure.Figure at 0x7fa6c0b82b90>"
      ]
     },
     "metadata": {},
     "output_type": "display_data"
    }
   ],
   "source": [
    "maxInd=np.array(scores).argmax()\n",
    "optC=10**(int(maxInd)-3)\n",
    "maxSc=scores[maxInd]\n",
    "print \"max accuracy for c={}, accuracy={}\".format(optC,maxSc)\n",
    "\n",
    "import matplotlib.pyplot as plt\n",
    "plt.plot(range(-3,4),scores)\n",
    "plt.xlabel('log10(C)')\n",
    "plt.ylabel('roc_auc accuracy')\n",
    "plt.grid()\n",
    "plt.show()"
   ]
  },
  {
   "cell_type": "markdown",
   "metadata": {},
   "source": [
    "3- На предыдущем шаге мы исключили из выборки признаки rM_hero и dM_hero, которые показывают, какие именно герои играли за каждую команду. Это важные признаки — герои имеют разные характеристики, и некоторые из них выигрывают чаще, чем другие. Выясните из данных, сколько различных идентификаторов героев существует в данной игре (вам может пригодиться фукнция unique или value_counts).\n",
    "\n",
    "3- In the previous step, we excluded from the sample the signs rM_hero and dM_hero, which show which characters were playing for each team. These are important signs - the characters have different characteristics, and some of them win more often than others. Find out from the data how many different identifiers of heroes exist in this game (you may need to use unique or value_counts)."
   ]
  },
  {
   "cell_type": "code",
   "execution_count": 10,
   "metadata": {},
   "outputs": [],
   "source": [
    "heros=pd.read_csv(\"./datasets/dictionaries/heroes.csv\")\n",
    "NumHeros=heros['id'].max()"
   ]
  },
  {
   "cell_type": "markdown",
   "metadata": {},
   "source": [
    "4- Воспользуемся подходом \"мешок слов\" для кодирования информации о героях. Пусть всего в игре имеет N различных героев. Сформируем N признаков, при этом i-й будет равен нулю, если i-й герой не участвовал в матче; единице, если i-й герой играл за команду Radiant; минус единице, если i-й герой играл за команду Dire. Ниже вы можете найти код, который выполняет данной преобразование. Добавьте полученные признаки к числовым, которые вы использовали во втором пункте данного этапа.\n",
    "\n",
    "4- Воспользуемся подходом \"мешок слов\" для кодирования информации о героях. Пусть всего в игре имеет N различных героев. Сформируем N признаков, при этом i-й будет равен нулю, если i-й герой не участвовал в матче; единице, если i-й герой играл за команду Radiant; минус единице, если i-й герой играл за команду Dire. Ниже вы можете найти код, который выполняет данной преобразование. Добавьте полученные признаки к числовым, которые вы использовали во втором пункте данного этапа."
   ]
  },
  {
   "cell_type": "code",
   "execution_count": 11,
   "metadata": {},
   "outputs": [],
   "source": [
    "pick = np.zeros((data.shape[0], NumHeros))\n",
    "for i,ind in enumerate(data.index):\n",
    "    for h in range(1,6):\n",
    "        pick[i][data[\"r{}_hero\".format(h)][ind]-1]=1\n",
    "        pick[i][data[\"d{}_hero\".format(h)][ind]-1]=-1\n",
    "\n",
    "picktest=np.zeros((test.shape[0], NumHeros))\n",
    "for i,ind in enumerate(test.index):\n",
    "    for h in range(1,6):\n",
    "        picktest[i][test[\"r{}_hero\".format(h)][ind]-1]=1\n",
    "        picktest[i][test[\"d{}_hero\".format(h)][ind]-1]=-1\n"
   ]
  },
  {
   "cell_type": "code",
   "execution_count": 12,
   "metadata": {},
   "outputs": [],
   "source": [
    "Xtrain=np.concatenate([Xtrain,pick],axis=1)\n",
    "Xtest=np.concatenate([Xtest,picktest],axis=1)"
   ]
  },
  {
   "cell_type": "markdown",
   "metadata": {},
   "source": [
    "5- Проведите кросс-валидацию для логистической регрессии на новой выборке с подбором лучшего параметра регуляризации. Какое получилось качество? Улучшилось ли оно? Чем вы можете это объяснить?\n",
    "\n",
    "5- Conduct cross-validation for logistic regression on a new sample with selection of the best regularization parameter. What was the quality? Has it improved? How can you explain this?"
   ]
  },
  {
   "cell_type": "code",
   "execution_count": 13,
   "metadata": {},
   "outputs": [
    {
     "name": "stdout",
     "output_type": "stream",
     "text": [
      "0.001\n",
      "Time elapsed: 0:00:10.634608\n",
      "0.01\n",
      "Time elapsed: 0:00:20.587332\n",
      "0.1\n",
      "Time elapsed: 0:00:29.307341\n",
      "1\n",
      "Time elapsed: 0:00:28.198037\n",
      "10\n",
      "Time elapsed: 0:00:27.225418\n",
      "100\n",
      "Time elapsed: 0:00:26.628673\n",
      "1000\n",
      "Time elapsed: 0:00:26.843332\n"
     ]
    }
   ],
   "source": [
    "import time\n",
    "import datetime\n",
    "from sklearn.model_selection import KFold\n",
    "from sklearn.model_selection import cross_val_score\n",
    "from sklearn.linear_model import LogisticRegression\n",
    "\n",
    "cv = KFold(n_splits=5, shuffle=True, random_state=42)\n",
    "scoring='roc_auc'\n",
    "ansr=-1\n",
    "scores=[]\n",
    "for num in range(-3,4):\n",
    "    C=10**num\n",
    "    print C\n",
    "    start_time = datetime.datetime.now()\n",
    "    clf = LogisticRegression(random_state=42,C=C)\n",
    "    scr=cross_val_score(clf, Xtrain, y, cv=cv,scoring = scoring).mean()\n",
    "    scores.append(scr)\n",
    "    print 'Time elapsed:', datetime.datetime.now() - start_time"
   ]
  },
  {
   "cell_type": "code",
   "execution_count": 14,
   "metadata": {},
   "outputs": [
    {
     "name": "stdout",
     "output_type": "stream",
     "text": [
      "max accuracy for c=0.1, accuracy=0.751947572682\n"
     ]
    },
    {
     "data": {
      "image/png": "[encoded data removed]",
      "text/plain": [
       "<matplotlib.figure.Figure at 0x7fa6cd88bd50>"
      ]
     },
     "metadata": {},
     "output_type": "display_data"
    }
   ],
   "source": [
    "maxInd=np.array(scores).argmax()\n",
    "optC=10**(int(maxInd)-3)\n",
    "maxSc=scores[maxInd]\n",
    "print \"max accuracy for c={}, accuracy={}\".format(optC,maxSc)\n",
    "\n",
    "import matplotlib.pyplot as plt\n",
    "plt.plot(range(-3,4),scores)\n",
    "plt.xlabel('log10(C)')\n",
    "plt.ylabel('roc_auc accuracy')\n",
    "plt.grid()\n",
    "plt.show()"
   ]
  },
  {
   "cell_type": "markdown",
   "metadata": {},
   "source": [
    "6- Постройте предсказания вероятностей победы команды Radiant для тестовой выборки с помощью лучшей из изученных моделей (лучшей с точки зрения AUC-ROC на кросс-валидации). Убедитесь, что предсказанные вероятности адекватные — находятся на отрезке [0, 1], не совпадают между собой (т.е. что модель не получилась константной).\n",
    "\n",
    "6- Build predictions of Radiant team winning probabilities for the test sample using the best of the models studied (best in terms of AUC-ROC for cross-validation). Make sure that the predicted probabilities are adequate - they are on the interval [0, 1], do not coincide (ie that the model did not turn out to be constant)."
   ]
  },
  {
   "cell_type": "code",
   "execution_count": 12,
   "metadata": {},
   "outputs": [
    {
     "data": {
      "text/plain": [
       "LogisticRegression(C=0.01, class_weight=None, dual=False, fit_intercept=True,\n",
       "          intercept_scaling=1, max_iter=100, multi_class='ovr', n_jobs=1,\n",
       "          penalty='l2', random_state=42, solver='liblinear', tol=0.0001,\n",
       "          verbose=0, warm_start=False)"
      ]
     },
     "execution_count": 12,
     "metadata": {},
     "output_type": "execute_result"
    }
   ],
   "source": [
    "clf = LogisticRegression(random_state=42,C=0.01)\n",
    "clf.fit(Xtrain,y)"
   ]
  },
  {
   "cell_type": "code",
   "execution_count": 13,
   "metadata": {},
   "outputs": [],
   "source": [
    "ids=test.index\n",
    "pred=clf.predict_proba(Xtest)"
   ]
  },
  {
   "cell_type": "code",
   "execution_count": 14,
   "metadata": {},
   "outputs": [],
   "source": [
    "df = pd.DataFrame({'match_id':ids, 'radiant_win': pred.T[1]})\n",
    "df.to_csv(\"predictionv2.csv\", index=False)"
   ]
  }
 ],
 "metadata": {
  "kernelspec": {
   "display_name": "Python 2",
   "language": "python",
   "name": "python2"
  },
  "language_info": {
   "codemirror_mode": {
    "name": "ipython",
    "version": 2
   },
   "file_extension": ".py",
   "mimetype": "text/x-python",
   "name": "python",
   "nbconvert_exporter": "python",
   "pygments_lexer": "ipython2",
   "version": "2.7.12"
  }
 },
 "nbformat": 4,
 "nbformat_minor": 2
}
