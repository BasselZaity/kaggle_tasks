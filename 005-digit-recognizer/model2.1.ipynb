{
 "cells": [
  {
   "cell_type": "markdown",
   "metadata": {},
   "source": [
    "# MINSET digin recognizer using MLP\n",
    "* generalization score (on kaggle) 0.973 \n",
    "* training accuracy: 0.99148\n",
    "* validation accuracy: 0.96786\n",
    "* training time: 3min 7s\n",
    "\n",
    "## Model 2.1\n",
    "### Structure\n",
    "\n",
    "Use 200 neurons in hidden layers instead of 25,12 in model2 and add droup out with probability of 0.8\n",
    "\n",
    "- Input layer 784 elements\n",
    "- Hidden layer 1, 200 neurons, relu activation, dropout keep_prob=0.8\n",
    "- Hidden layer 2, 200 neurons, relu activation, dropout keep_prob=0.8\n",
    "- Output layer 10 neurons, sigmoid activation\n",
    "\n",
    "\n",
    "- Number of iterations 100\n",
    "- Batch gradient descent, batch size 64\n",
    "- Loss function: softmax_cross_entropy_with_logits\n",
    "- Xavier initialization\n",
    "- Adam optimization algoithm for backpropogation\n",
    "    - learning rate 0.001\n"
   ]
  },
  {
   "cell_type": "code",
   "execution_count": 1,
   "metadata": {
    "collapsed": false
   },
   "outputs": [
    {
     "name": "stderr",
     "output_type": "stream",
     "text": [
      "/home/zein/.local/lib/python3.5/site-packages/h5py/__init__.py:36: FutureWarning: Conversion of the second argument of issubdtype from `float` to `np.floating` is deprecated. In future, it will be treated as `np.float64 == np.dtype(float).type`.\n",
      "  from ._conv import register_converters as _register_converters\n"
     ]
    }
   ],
   "source": [
    "from sklearn.metrics import accuracy_score\n",
    "from sklearn.preprocessing import OneHotEncoder\n",
    "from sklearn.model_selection import train_test_split\n",
    "import tensorflow as tf\n",
    "import pandas as pd\n",
    "import numpy as np\n",
    "from matplotlib import pyplot as plt"
   ]
  },
  {
   "cell_type": "code",
   "execution_count": 2,
   "metadata": {
    "collapsed": true
   },
   "outputs": [],
   "source": [
    "#helpers\n",
    "def convert_to_one_hot(Y, C):\n",
    "    Y = np.eye(C)[Y.reshape(-1)].T\n",
    "    return Y"
   ]
  },
  {
   "cell_type": "code",
   "execution_count": 3,
   "metadata": {
    "collapsed": false
   },
   "outputs": [],
   "source": [
    "train=pd.read_csv('./data/train.csv')\n",
    "test=pd.read_csv('./data/test.csv')"
   ]
  },
  {
   "cell_type": "code",
   "execution_count": 4,
   "metadata": {
    "collapsed": false
   },
   "outputs": [],
   "source": [
    "trainLabels=train.label\n",
    "train.drop(\"label\",axis=1,inplace=True)\n",
    "\n",
    "train=train/256.0\n",
    "test=test/256.0\n",
    "Xtrain=train.as_matrix()\n",
    "Xtest=test.as_matrix()"
   ]
  },
  {
   "cell_type": "code",
   "execution_count": 5,
   "metadata": {
    "collapsed": false
   },
   "outputs": [
    {
     "name": "stdout",
     "output_type": "stream",
     "text": [
      "(42000, 784) (42000,)\n"
     ]
    }
   ],
   "source": [
    "print( Xtrain.shape, trainLabels.shape)"
   ]
  },
  {
   "cell_type": "code",
   "execution_count": 6,
   "metadata": {
    "collapsed": false
   },
   "outputs": [
    {
     "name": "stderr",
     "output_type": "stream",
     "text": [
      "/home/zein/.local/lib/python3.5/site-packages/ipykernel_launcher.py:3: FutureWarning: reshape is deprecated and will raise in a subsequent release. Please use .values.reshape(...) instead\n",
      "  This is separate from the ipykernel package so we can avoid doing imports until\n"
     ]
    }
   ],
   "source": [
    "Xtrain, Xval, trainLabels, valLabels = train_test_split( Xtrain, trainLabels, test_size=0.1\n",
    "                                                        ,shuffle=True ,stratify=trainLabels)\n",
    "ytrain=convert_to_one_hot(trainLabels,10).T\n",
    "yval=convert_to_one_hot(valLabels,10).T"
   ]
  },
  {
   "cell_type": "code",
   "execution_count": 7,
   "metadata": {
    "collapsed": false
   },
   "outputs": [
    {
     "data": {
      "text/plain": [
       "(array([413., 468., 418., 435., 407., 380., 414., 440., 406., 419.]),\n",
       " array([0. , 0.9, 1.8, 2.7, 3.6, 4.5, 5.4, 6.3, 7.2, 8.1, 9. ]),\n",
       " <a list of 10 Patch objects>)"
      ]
     },
     "execution_count": 7,
     "metadata": {},
     "output_type": "execute_result"
    },
    {
     "data": {
      "image/png": "[encoded data removed]",
      "text/plain": [
       "<Figure size 432x288 with 2 Axes>"
      ]
     },
     "metadata": {},
     "output_type": "display_data"
    }
   ],
   "source": [
    "# Make sure of train_test_split work\n",
    "plt.figure(\"train/validation labels distribution\")\n",
    "plt.subplot(1,2,1)\n",
    "plt.title(\"Train\")\n",
    "plt.hist(trainLabels)\n",
    "plt.subplot(1,2,2)\n",
    "plt.title(\"Validation\")\n",
    "plt.hist(valLabels)"
   ]
  },
  {
   "cell_type": "code",
   "execution_count": 8,
   "metadata": {
    "collapsed": true
   },
   "outputs": [],
   "source": [
    "sess = tf.InteractiveSession()"
   ]
  },
  {
   "cell_type": "code",
   "execution_count": 9,
   "metadata": {
    "collapsed": false
   },
   "outputs": [],
   "source": [
    "# Define structure of the MLP\n",
    "L1=L2=200\n",
    "input_X = tf.placeholder(tf.float32, shape=(None,28*28))\n",
    "input_y = tf.placeholder(tf.float32, shape=(None,10))\n",
    "keep_prob = 0.8\n",
    "\n",
    "W1 = tf.get_variable(\"W1\",[28*28,L1],initializer=tf.contrib.layers.xavier_initializer(seed=1))\n",
    "b1 = tf.get_variable(\"b1\",[1,L1],initializer=tf.zeros_initializer())\n",
    "W2 = tf.get_variable(\"W2\",[L1,L2],initializer=tf.contrib.layers.xavier_initializer(seed=1))\n",
    "b2 = tf.get_variable(\"b2\",[1,L2],initializer=tf.zeros_initializer())\n",
    "W3 = tf.get_variable(\"W3\",[L2,10],initializer=tf.contrib.layers.xavier_initializer(seed=1))\n",
    "b3 = tf.get_variable(\"b3\",[1,10],initializer=tf.zeros_initializer())\n",
    "\n",
    "# Forward propagation\n",
    "a1=tf.nn.relu(tf.add(tf.matmul(input_X,W1),b1))\n",
    "d1=tf.nn.dropout(a1,keep_prob)\n",
    "a2=tf.nn.relu(tf.add(tf.matmul(d1,W2),b2))\n",
    "d2=tf.nn.dropout(a2,keep_prob)\n",
    "predicted_y=tf.nn.sigmoid(tf.add(tf.matmul(d2,W3),b3))\n",
    "cost=tf.reduce_mean(tf.nn.softmax_cross_entropy_with_logits_v2(logits=predicted_y,labels=input_y))\n",
    "\n",
    "# Backpropogation\n",
    "optimizer = tf.train.AdamOptimizer(learning_rate = 0.001).minimize(cost)\n",
    "\n",
    "# Initialize all the variables\n",
    "init = tf.global_variables_initializer()\n",
    "sess.run(init)"
   ]
  },
  {
   "cell_type": "code",
   "execution_count": 10,
   "metadata": {
    "collapsed": false
   },
   "outputs": [
    {
     "data": {
      "text/plain": [
       "((37800, 784), (37800, 10), (4200, 784), (4200, 10))"
      ]
     },
     "execution_count": 10,
     "metadata": {},
     "output_type": "execute_result"
    }
   ],
   "source": [
    "Xtrain.shape,ytrain.shape,Xval.shape,yval.shape"
   ]
  },
  {
   "cell_type": "code",
   "execution_count": 11,
   "metadata": {
    "collapsed": false
   },
   "outputs": [
    {
     "name": "stdout",
     "output_type": "stream",
     "text": [
      "iteration #0 Cost=1.59, training accuracy=0.93508, validation accuracy=0.92595\n",
      "iteration #10 Cost=1.48, training accuracy=0.98304, validation accuracy=0.96643\n",
      "iteration #20 Cost=1.47, training accuracy=0.98923, validation accuracy=0.97238\n",
      "iteration #30 Cost=1.47, training accuracy=0.98825, validation accuracy=0.96452\n",
      "iteration #40 Cost=1.47, training accuracy=0.99243, validation accuracy=0.97024\n",
      "iteration #50 Cost=1.47, training accuracy=0.99148, validation accuracy=0.96786\n",
      "CPU times: user 7min 55s, sys: 19.8 s, total: 8min 15s\n",
      "Wall time: 3min 7s\n"
     ]
    }
   ],
   "source": [
    "%%time\n",
    "# Train the network\n",
    "N=Xtrain.shape[0] #number of training examples\n",
    "batch_size=64\n",
    "costs=[]\n",
    "train_acc=[]\n",
    "valid_acc=[]\n",
    "\n",
    "for iteration in range(51):\n",
    "    sm=0\n",
    "    k=0\n",
    "    for i in range(0,N,batch_size):\n",
    "        _ , patch_cost = sess.run([optimizer,cost],feed_dict={input_X:Xtrain[i:i+batch_size,:]\n",
    "                                                              ,input_y:ytrain[i:i+batch_size,:]})\n",
    "        k+=1\n",
    "        sm+=patch_cost\n",
    "        \n",
    "    # calculate train accuracy\n",
    "    trainpred=np.argmax(sess.run(predicted_y,feed_dict={input_X:Xtrain}),axis=1)\n",
    "    acc1=accuracy_score(trainpred,trainLabels)\n",
    "    train_acc.append(1-acc1)\n",
    "    \n",
    "    # calculate test accuracy\n",
    "    validpred=np.argmax(sess.run(predicted_y,feed_dict={input_X:Xval}),axis=1)\n",
    "    acc2=accuracy_score(validpred,valLabels)\n",
    "    valid_acc.append(1-acc2)\n",
    "    \n",
    "    if iteration%10==0:\n",
    "        print(\"iteration #{} Cost={:0.2f}, training accuracy={:0.5f}, validation accuracy={:0.5f}\".format(\n",
    "                iteration,sm/k,acc1,acc2))\n",
    "    costs.append(sm/k)"
   ]
  },
  {
   "cell_type": "code",
   "execution_count": 12,
   "metadata": {
    "collapsed": false
   },
   "outputs": [
    {
     "data": {
      "image/png": "[encoded data removed]",
      "text/plain": [
       "<Figure size 432x288 with 1 Axes>"
      ]
     },
     "metadata": {},
     "output_type": "display_data"
    },
    {
     "data": {
      "image/png": "[encoded data removed]",
      "text/plain": [
       "<Figure size 432x288 with 1 Axes>"
      ]
     },
     "metadata": {},
     "output_type": "display_data"
    }
   ],
   "source": [
    "plt.figure(\"Training costs\")\n",
    "plt.plot(costs)\n",
    "plt.xlabel('Iteration')\n",
    "plt.ylabel('Cost')\n",
    "plt.title(\"Cost per iteration\")\n",
    "plt.grid()\n",
    "\n",
    "plt.figure(\"Train/Validation Error\")\n",
    "plt.plot(train_acc)\n",
    "plt.plot(valid_acc)\n",
    "plt.xlabel('Iteration')\n",
    "plt.ylabel('Error')\n",
    "plt.title(\"Train/Validation Error per iteration\")\n",
    "plt.legend(['Train Error','Test Error'])\n",
    "plt.grid()"
   ]
  },
  {
   "cell_type": "code",
   "execution_count": 14,
   "metadata": {
    "collapsed": false
   },
   "outputs": [],
   "source": [
    "testpred=np.argmax(sess.run(predicted_y,feed_dict={input_X:Xtest}),axis=1)\n",
    "\n",
    "ids=np.arange(1,Xtest.shape[0]+1)\n",
    "df = pd.DataFrame({'ImageId':ids, 'Label': testpred.T})\n",
    "\n",
    "df.to_csv(\"output/model2.csv\", index=False)"
   ]
  }
 ],
 "metadata": {
  "kernelspec": {
   "display_name": "Python 3",
   "language": "python",
   "name": "python3"
  },
  "language_info": {
   "codemirror_mode": {
    "name": "ipython",
    "version": 3
   },
   "file_extension": ".py",
   "mimetype": "text/x-python",
   "name": "python",
   "nbconvert_exporter": "python",
   "pygments_lexer": "ipython3",
   "version": "3.5.2"
  }
 },
 "nbformat": 4,
 "nbformat_minor": 0
}
