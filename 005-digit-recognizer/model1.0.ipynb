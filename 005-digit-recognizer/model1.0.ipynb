{
 "cells": [
  {
   "cell_type": "markdown",
   "metadata": {},
   "source": [
    "# Digit Recognizer\n",
    "- dataset :  MNIST data\n",
    "- task type: multi class classification\n",
    "- structure: LeNet5\n",
    "- accuracy achieved on kaggle : 0.98657\n",
    "\n",
    "task link: https://www.kaggle.com/c/digit-recognizer/submissions?sortBy=date&group=all&page=1"
   ]
  },
  {
   "cell_type": "code",
   "execution_count": 1,
   "metadata": {
    "collapsed": false
   },
   "outputs": [
    {
     "name": "stderr",
     "output_type": "stream",
     "text": [
      "Using TensorFlow backend.\n"
     ]
    }
   ],
   "source": [
    "import numpy as np\n",
    "import pandas as pd\n",
    "from keras import layers\n",
    "from keras.layers import Input, Add, Dense, Activation, ZeroPadding2D, BatchNormalization, Flatten, Conv2D, AveragePooling2D, MaxPooling2D, GlobalMaxPooling2D\n",
    "from keras.models import Model, load_model\n",
    "from keras.preprocessing import image\n",
    "from keras.utils import layer_utils\n",
    "from keras.utils.data_utils import get_file\n",
    "from keras.applications.imagenet_utils import preprocess_input\n",
    "import pydot\n",
    "from IPython.display import SVG\n",
    "from keras.utils.vis_utils import model_to_dot\n",
    "from keras.utils import plot_model\n",
    "from keras.initializers import glorot_uniform\n",
    "import scipy.misc\n",
    "from matplotlib.pyplot import imshow\n",
    "from sklearn.cross_validation import train_test_split\n",
    "%matplotlib inline\n",
    "\n",
    "import keras.backend as K\n",
    "K.set_image_data_format('channels_last')\n",
    "K.set_learning_phase(1)"
   ]
  },
  {
   "cell_type": "code",
   "execution_count": 2,
   "metadata": {
    "collapsed": true
   },
   "outputs": [],
   "source": [
    "#helpers\n",
    "def convert_to_one_hot(Y, C):\n",
    "    Y = np.eye(C)[Y.reshape(-1)].T\n",
    "    return Y"
   ]
  },
  {
   "cell_type": "code",
   "execution_count": 3,
   "metadata": {
    "collapsed": true
   },
   "outputs": [],
   "source": [
    "def Lenet5Model(input_shape,classes):\n",
    "    \"\"\"\n",
    "    Implementation of the Lenet5.\n",
    "    \n",
    "    Arguments:\n",
    "    input_shape -- shape of the images of the dataset\n",
    "\n",
    "    Returns:\n",
    "    model -- a Model() instance in Keras\n",
    "    \"\"\"\n",
    "    \n",
    "    X_input = Input(input_shape)\n",
    "    ######### 1st Layer #######\n",
    "    X = Conv2D(6, (5, 5), strides = (1, 1), name = 'conv1')(X_input)\n",
    "    X = Activation('relu')(X)\n",
    "    X = AveragePooling2D((2, 2),(2,2), name='avg_pool1')(X)\n",
    "    ######## 2nd layer #########\n",
    "    X = Conv2D(16, (5, 5), strides = (1, 1), name = 'conv2')(X)\n",
    "    X = Activation('relu')(X)\n",
    "    X = AveragePooling2D((2, 2),(2,2), name='avg_pool2')(X)\n",
    "    ######## Fully connected layers ###########\n",
    "    X = Flatten()(X)\n",
    "    X = Dense(120, activation='tanh', name='fc1')(X)\n",
    "    X = Dense(84, activation='tanh', name='fc2')(X)\n",
    "    X = Dense(classes, activation='softmax', name='softmax-' + str(classes), kernel_initializer = glorot_uniform(seed=0))(X)\n",
    "\n",
    "    model = Model(inputs = X_input, outputs = X, name='LeNet5')\n",
    "    return model"
   ]
  },
  {
   "cell_type": "code",
   "execution_count": 4,
   "metadata": {
    "collapsed": true
   },
   "outputs": [],
   "source": [
    "model = Lenet5Model(input_shape = (28, 28, 1), classes = 10)"
   ]
  },
  {
   "cell_type": "code",
   "execution_count": 5,
   "metadata": {
    "collapsed": true
   },
   "outputs": [],
   "source": [
    "model.compile(optimizer='adam', loss='categorical_crossentropy', metrics=['accuracy'])"
   ]
  },
  {
   "cell_type": "markdown",
   "metadata": {},
   "source": [
    "## Training stage"
   ]
  },
  {
   "cell_type": "code",
   "execution_count": 6,
   "metadata": {
    "collapsed": false
   },
   "outputs": [
    {
     "data": {
      "text/plain": [
       "<matplotlib.image.AxesImage at 0x7f71c92a5210>"
      ]
     },
     "execution_count": 6,
     "metadata": {},
     "output_type": "execute_result"
    },
    {
     "data": {
      "image/png": "[encoded data removed]",
      "text/plain": [
       "<matplotlib.figure.Figure at 0x7f71d315a290>"
      ]
     },
     "metadata": {},
     "output_type": "display_data"
    }
   ],
   "source": [
    "train=pd.read_csv('./data/train.csv')\n",
    "y=train.label\n",
    "ytrain=convert_to_one_hot(y,10)\n",
    "train.drop(\"label\",axis=1,inplace=True)\n",
    "train=train.as_matrix()\n",
    "L=train.shape[0]\n",
    "train=train.reshape(L,28,28,1)\n",
    "imshow(train[25,:,:,0],cmap=\"gray\")"
   ]
  },
  {
   "cell_type": "code",
   "execution_count": 7,
   "metadata": {
    "collapsed": false
   },
   "outputs": [],
   "source": [
    "random_seed = 3\n",
    "#validate size = 8%\n",
    "train_x, val_x, train_y, val_y, = train_test_split(train, ytrain.T, test_size = 0.08, random_state=1)"
   ]
  },
  {
   "cell_type": "code",
   "execution_count": 8,
   "metadata": {
    "collapsed": false
   },
   "outputs": [
    {
     "data": {
      "text/plain": [
       "<matplotlib.image.AxesImage at 0x7f71c9d79150>"
      ]
     },
     "execution_count": 8,
     "metadata": {},
     "output_type": "execute_result"
    },
    {
     "data": {
      "image/png": "[encoded data removed]",
      "text/plain": [
       "<matplotlib.figure.Figure at 0x7f72105326d0>"
      ]
     },
     "metadata": {},
     "output_type": "display_data"
    }
   ],
   "source": [
    "test=pd.read_csv('./data/test.csv')\n",
    "test=test.as_matrix()\n",
    "Ltest=test.shape[0]\n",
    "test=test.reshape(Ltest,28,28,1)\n",
    "imshow(test[100,:,:,0],cmap='gray')"
   ]
  },
  {
   "cell_type": "code",
   "execution_count": 9,
   "metadata": {
    "collapsed": false
   },
   "outputs": [
    {
     "name": "stdout",
     "output_type": "stream",
     "text": [
      "Epoch 1/50\n",
      "38640/38640 [==============================] - 19s 502us/step - loss: 0.3647 - acc: 0.8939\n",
      "Epoch 2/50\n",
      "38640/38640 [==============================] - 18s 468us/step - loss: 0.1162 - acc: 0.9642\n",
      "Epoch 3/50\n",
      "38640/38640 [==============================] - 18s 471us/step - loss: 0.0865 - acc: 0.9730\n",
      "Epoch 4/50\n",
      "38640/38640 [==============================] - 18s 474us/step - loss: 0.0721 - acc: 0.9776\n",
      "Epoch 5/50\n",
      "38640/38640 [==============================] - 19s 489us/step - loss: 0.0610 - acc: 0.9798\n",
      "Epoch 6/50\n",
      "38640/38640 [==============================] - 19s 490us/step - loss: 0.0530 - acc: 0.9837\n",
      "Epoch 7/50\n",
      "38640/38640 [==============================] - 19s 486us/step - loss: 0.0501 - acc: 0.9843\n",
      "Epoch 8/50\n",
      "38640/38640 [==============================] - 19s 483us/step - loss: 0.0415 - acc: 0.9875\n",
      "Epoch 9/50\n",
      "38640/38640 [==============================] - 20s 506us/step - loss: 0.0453 - acc: 0.9850\n",
      "Epoch 10/50\n",
      "38640/38640 [==============================] - 19s 495us/step - loss: 0.0372 - acc: 0.9880\n",
      "Epoch 11/50\n",
      "38640/38640 [==============================] - 20s 506us/step - loss: 0.0374 - acc: 0.9880\n",
      "Epoch 12/50\n",
      "38640/38640 [==============================] - 21s 532us/step - loss: 0.0332 - acc: 0.9895\n",
      "Epoch 13/50\n",
      "38640/38640 [==============================] - 21s 556us/step - loss: 0.0331 - acc: 0.9886\n",
      "Epoch 14/50\n",
      "38640/38640 [==============================] - 22s 577us/step - loss: 0.0288 - acc: 0.9901\n",
      "Epoch 15/50\n",
      "38640/38640 [==============================] - 22s 580us/step - loss: 0.0292 - acc: 0.9906\n",
      "Epoch 16/50\n",
      "38640/38640 [==============================] - 20s 514us/step - loss: 0.0275 - acc: 0.9909\n",
      "Epoch 17/50\n",
      "38640/38640 [==============================] - 20s 521us/step - loss: 0.0298 - acc: 0.9899\n",
      "Epoch 18/50\n",
      "38640/38640 [==============================] - 20s 517us/step - loss: 0.0256 - acc: 0.9917\n",
      "Epoch 19/50\n",
      "38640/38640 [==============================] - 20s 526us/step - loss: 0.0276 - acc: 0.9908\n",
      "Epoch 20/50\n",
      "38640/38640 [==============================] - 22s 565us/step - loss: 0.0237 - acc: 0.9921\n",
      "Epoch 21/50\n",
      "38640/38640 [==============================] - 21s 548us/step - loss: 0.0273 - acc: 0.9915\n",
      "Epoch 22/50\n",
      "38640/38640 [==============================] - 22s 563us/step - loss: 0.0267 - acc: 0.9914\n",
      "Epoch 23/50\n",
      "38640/38640 [==============================] - 22s 569us/step - loss: 0.0258 - acc: 0.9913\n",
      "Epoch 24/50\n",
      "38640/38640 [==============================] - 22s 569us/step - loss: 0.0259 - acc: 0.9912\n",
      "Epoch 25/50\n",
      "38640/38640 [==============================] - 23s 586us/step - loss: 0.0245 - acc: 0.9918\n",
      "Epoch 26/50\n",
      "38640/38640 [==============================] - 25s 638us/step - loss: 0.0262 - acc: 0.9911\n",
      "Epoch 27/50\n",
      "38640/38640 [==============================] - 25s 660us/step - loss: 0.0205 - acc: 0.9933\n",
      "Epoch 28/50\n",
      "38640/38640 [==============================] - 25s 653us/step - loss: 0.0239 - acc: 0.9920\n",
      "Epoch 29/50\n",
      "38640/38640 [==============================] - 27s 706us/step - loss: 0.0217 - acc: 0.9923\n",
      "Epoch 30/50\n",
      "38640/38640 [==============================] - 27s 709us/step - loss: 0.0205 - acc: 0.9929\n",
      "Epoch 31/50\n",
      "38640/38640 [==============================] - 26s 665us/step - loss: 0.0189 - acc: 0.9934\n",
      "Epoch 32/50\n",
      "38640/38640 [==============================] - 28s 731us/step - loss: 0.0183 - acc: 0.9939\n",
      "Epoch 33/50\n",
      "38640/38640 [==============================] - 26s 674us/step - loss: 0.0211 - acc: 0.9929\n",
      "Epoch 34/50\n",
      "38640/38640 [==============================] - 27s 701us/step - loss: 0.0238 - acc: 0.9923\n",
      "Epoch 35/50\n",
      "38640/38640 [==============================] - 27s 700us/step - loss: 0.0227 - acc: 0.9923\n",
      "Epoch 36/50\n",
      "38640/38640 [==============================] - 27s 705us/step - loss: 0.0207 - acc: 0.9932\n",
      "Epoch 37/50\n",
      "38640/38640 [==============================] - 27s 696us/step - loss: 0.0191 - acc: 0.9937\n",
      "Epoch 38/50\n",
      "38640/38640 [==============================] - 25s 636us/step - loss: 0.0211 - acc: 0.9925\n",
      "Epoch 39/50\n",
      "38640/38640 [==============================] - 24s 610us/step - loss: 0.0208 - acc: 0.9927\n",
      "Epoch 40/50\n",
      "38640/38640 [==============================] - 27s 687us/step - loss: 0.0213 - acc: 0.9928\n",
      "Epoch 41/50\n",
      "38640/38640 [==============================] - 24s 633us/step - loss: 0.0199 - acc: 0.9934\n",
      "Epoch 42/50\n",
      "38640/38640 [==============================] - 25s 648us/step - loss: 0.0175 - acc: 0.9941\n",
      "Epoch 43/50\n",
      "38640/38640 [==============================] - 30s 786us/step - loss: 0.0167 - acc: 0.9944\n",
      "Epoch 44/50\n",
      "38640/38640 [==============================] - 31s 791us/step - loss: 0.0158 - acc: 0.9948\n",
      "Epoch 45/50\n",
      "38640/38640 [==============================] - 30s 777us/step - loss: 0.0198 - acc: 0.9937\n",
      "Epoch 46/50\n",
      "38640/38640 [==============================] - 31s 813us/step - loss: 0.0182 - acc: 0.9942\n",
      "Epoch 47/50\n",
      "38640/38640 [==============================] - 28s 721us/step - loss: 0.0201 - acc: 0.9928\n",
      "Epoch 48/50\n",
      "38640/38640 [==============================] - 26s 672us/step - loss: 0.0177 - acc: 0.9941\n",
      "Epoch 49/50\n",
      "38640/38640 [==============================] - 27s 706us/step - loss: 0.0191 - acc: 0.9933\n",
      "Epoch 50/50\n",
      "38640/38640 [==============================] - 27s 693us/step - loss: 0.0177 - acc: 0.9942\n"
     ]
    },
    {
     "data": {
      "text/plain": [
       "<keras.callbacks.History at 0x7f71ca482fd0>"
      ]
     },
     "execution_count": 9,
     "metadata": {},
     "output_type": "execute_result"
    }
   ],
   "source": [
    "model.fit(train_x, train_y, epochs = 50, batch_size = 64)"
   ]
  },
  {
   "cell_type": "markdown",
   "metadata": {},
   "source": [
    "## Validation "
   ]
  },
  {
   "cell_type": "code",
   "execution_count": 10,
   "metadata": {
    "collapsed": false
   },
   "outputs": [
    {
     "name": "stdout",
     "output_type": "stream",
     "text": [
      "3360/3360 [==============================] - 1s 243us/step\n",
      "\n",
      "Loss = 0.06467530536797962\n",
      "Test Accuracy = 0.9836309523809523\n"
     ]
    }
   ],
   "source": [
    "preds = model.evaluate(x=val_x,y=val_y)\n",
    "\n",
    "print\n",
    "print (\"Loss = \" + str(preds[0]))\n",
    "print (\"Test Accuracy = \" + str(preds[1]))"
   ]
  },
  {
   "cell_type": "markdown",
   "metadata": {},
   "source": [
    "## Make predictions"
   ]
  },
  {
   "cell_type": "code",
   "execution_count": 11,
   "metadata": {
    "collapsed": false
   },
   "outputs": [],
   "source": [
    "predictions=model.predict(test)\n",
    "numbers=np.argmax(predictions,axis=1)"
   ]
  },
  {
   "cell_type": "code",
   "execution_count": 12,
   "metadata": {
    "collapsed": false
   },
   "outputs": [],
   "source": [
    "ids=np.arange(1,Ltest+1)\n",
    "df = pd.DataFrame({'ImageId':ids, 'Label': numbers})\n",
    "\n",
    "df.to_csv(\"output/model1.csv\", index=False)"
   ]
  },
  {
   "cell_type": "markdown",
   "metadata": {},
   "source": [
    "## details about this model"
   ]
  },
  {
   "cell_type": "code",
   "execution_count": 13,
   "metadata": {
    "collapsed": false
   },
   "outputs": [
    {
     "name": "stdout",
     "output_type": "stream",
     "text": [
      "_________________________________________________________________\n",
      "Layer (type)                 Output Shape              Param #   \n",
      "=================================================================\n",
      "input_1 (InputLayer)         (None, 28, 28, 1)         0         \n",
      "_________________________________________________________________\n",
      "conv1 (Conv2D)               (None, 24, 24, 6)         156       \n",
      "_________________________________________________________________\n",
      "activation_1 (Activation)    (None, 24, 24, 6)         0         \n",
      "_________________________________________________________________\n",
      "avg_pool1 (AveragePooling2D) (None, 12, 12, 6)         0         \n",
      "_________________________________________________________________\n",
      "conv2 (Conv2D)               (None, 8, 8, 16)          2416      \n",
      "_________________________________________________________________\n",
      "activation_2 (Activation)    (None, 8, 8, 16)          0         \n",
      "_________________________________________________________________\n",
      "avg_pool2 (AveragePooling2D) (None, 4, 4, 16)          0         \n",
      "_________________________________________________________________\n",
      "flatten_1 (Flatten)          (None, 256)               0         \n",
      "_________________________________________________________________\n",
      "fc1 (Dense)                  (None, 120)               30840     \n",
      "_________________________________________________________________\n",
      "fc2 (Dense)                  (None, 84)                10164     \n",
      "_________________________________________________________________\n",
      "softmax-10 (Dense)           (None, 10)                850       \n",
      "=================================================================\n",
      "Total params: 44,426\n",
      "Trainable params: 44,426\n",
      "Non-trainable params: 0\n",
      "_________________________________________________________________\n"
     ]
    }
   ],
   "source": [
    "model.summary()"
   ]
  },
  {
   "cell_type": "code",
   "execution_count": 14,
   "metadata": {
    "collapsed": false
   },
   "outputs": [
    {
     "data": {
      "image/svg+xml": [
       "<svg height=\"775pt\" viewBox=\"0.00 0.00 193.00 775.00\" width=\"193pt\" xmlns=\"http://www.w3.org/2000/svg\" xmlns:xlink=\"http://www.w3.org/1999/xlink\">\n",
       "<g class=\"graph\" id=\"graph0\" transform=\"scale(1 1) rotate(0) translate(4 771)\">\n",
       "<title>G</title>\n",
       "<polygon fill=\"white\" points=\"-4,4 -4,-771 189,-771 189,4 -4,4\" stroke=\"none\"/>\n",
       "<!-- 140127876886416 -->\n",
       "<g class=\"node\" id=\"node1\"><title>140127876886416</title>\n",
       "<polygon fill=\"none\" points=\"30,-730.5 30,-766.5 155,-766.5 155,-730.5 30,-730.5\" stroke=\"black\"/>\n",
       "<text font-family=\"Times,serif\" font-size=\"14.00\" text-anchor=\"middle\" x=\"92.5\" y=\"-744.8\">input_1: InputLayer</text>\n",
       "</g>\n",
       "<!-- 140127877568848 -->\n",
       "<g class=\"node\" id=\"node2\"><title>140127877568848</title>\n",
       "<polygon fill=\"none\" points=\"41,-657.5 41,-693.5 144,-693.5 144,-657.5 41,-657.5\" stroke=\"black\"/>\n",
       "<text font-family=\"Times,serif\" font-size=\"14.00\" text-anchor=\"middle\" x=\"92.5\" y=\"-671.8\">conv1: Conv2D</text>\n",
       "</g>\n",
       "<!-- 140127876886416&#45;&gt;140127877568848 -->\n",
       "<g class=\"edge\" id=\"edge1\"><title>140127876886416-&gt;140127877568848</title>\n",
       "<path d=\"M92.5,-730.313C92.5,-722.289 92.5,-712.547 92.5,-703.569\" fill=\"none\" stroke=\"black\"/>\n",
       "<polygon fill=\"black\" points=\"96.0001,-703.529 92.5,-693.529 89.0001,-703.529 96.0001,-703.529\" stroke=\"black\"/>\n",
       "</g>\n",
       "<!-- 140127228340048 -->\n",
       "<g class=\"node\" id=\"node3\"><title>140127228340048</title>\n",
       "<polygon fill=\"none\" points=\"18.5,-584.5 18.5,-620.5 166.5,-620.5 166.5,-584.5 18.5,-584.5\" stroke=\"black\"/>\n",
       "<text font-family=\"Times,serif\" font-size=\"14.00\" text-anchor=\"middle\" x=\"92.5\" y=\"-598.8\">activation_1: Activation</text>\n",
       "</g>\n",
       "<!-- 140127877568848&#45;&gt;140127228340048 -->\n",
       "<g class=\"edge\" id=\"edge2\"><title>140127877568848-&gt;140127228340048</title>\n",
       "<path d=\"M92.5,-657.313C92.5,-649.289 92.5,-639.547 92.5,-630.569\" fill=\"none\" stroke=\"black\"/>\n",
       "<polygon fill=\"black\" points=\"96.0001,-630.529 92.5,-620.529 89.0001,-630.529 96.0001,-630.529\" stroke=\"black\"/>\n",
       "</g>\n",
       "<!-- 140127876886992 -->\n",
       "<g class=\"node\" id=\"node4\"><title>140127876886992</title>\n",
       "<polygon fill=\"none\" points=\"-1.42109e-14,-511.5 -1.42109e-14,-547.5 185,-547.5 185,-511.5 -1.42109e-14,-511.5\" stroke=\"black\"/>\n",
       "<text font-family=\"Times,serif\" font-size=\"14.00\" text-anchor=\"middle\" x=\"92.5\" y=\"-525.8\">avg_pool1: AveragePooling2D</text>\n",
       "</g>\n",
       "<!-- 140127228340048&#45;&gt;140127876886992 -->\n",
       "<g class=\"edge\" id=\"edge3\"><title>140127228340048-&gt;140127876886992</title>\n",
       "<path d=\"M92.5,-584.313C92.5,-576.289 92.5,-566.547 92.5,-557.569\" fill=\"none\" stroke=\"black\"/>\n",
       "<polygon fill=\"black\" points=\"96.0001,-557.529 92.5,-547.529 89.0001,-557.529 96.0001,-557.529\" stroke=\"black\"/>\n",
       "</g>\n",
       "<!-- 140127876885968 -->\n",
       "<g class=\"node\" id=\"node5\"><title>140127876885968</title>\n",
       "<polygon fill=\"none\" points=\"41,-438.5 41,-474.5 144,-474.5 144,-438.5 41,-438.5\" stroke=\"black\"/>\n",
       "<text font-family=\"Times,serif\" font-size=\"14.00\" text-anchor=\"middle\" x=\"92.5\" y=\"-452.8\">conv2: Conv2D</text>\n",
       "</g>\n",
       "<!-- 140127876886992&#45;&gt;140127876885968 -->\n",
       "<g class=\"edge\" id=\"edge4\"><title>140127876886992-&gt;140127876885968</title>\n",
       "<path d=\"M92.5,-511.313C92.5,-503.289 92.5,-493.547 92.5,-484.569\" fill=\"none\" stroke=\"black\"/>\n",
       "<polygon fill=\"black\" points=\"96.0001,-484.529 92.5,-474.529 89.0001,-484.529 96.0001,-484.529\" stroke=\"black\"/>\n",
       "</g>\n",
       "<!-- 140127876886032 -->\n",
       "<g class=\"node\" id=\"node6\"><title>140127876886032</title>\n",
       "<polygon fill=\"none\" points=\"18.5,-365.5 18.5,-401.5 166.5,-401.5 166.5,-365.5 18.5,-365.5\" stroke=\"black\"/>\n",
       "<text font-family=\"Times,serif\" font-size=\"14.00\" text-anchor=\"middle\" x=\"92.5\" y=\"-379.8\">activation_2: Activation</text>\n",
       "</g>\n",
       "<!-- 140127876885968&#45;&gt;140127876886032 -->\n",
       "<g class=\"edge\" id=\"edge5\"><title>140127876885968-&gt;140127876886032</title>\n",
       "<path d=\"M92.5,-438.313C92.5,-430.289 92.5,-420.547 92.5,-411.569\" fill=\"none\" stroke=\"black\"/>\n",
       "<polygon fill=\"black\" points=\"96.0001,-411.529 92.5,-401.529 89.0001,-411.529 96.0001,-411.529\" stroke=\"black\"/>\n",
       "</g>\n",
       "<!-- 140126701424016 -->\n",
       "<g class=\"node\" id=\"node7\"><title>140126701424016</title>\n",
       "<polygon fill=\"none\" points=\"-1.42109e-14,-292.5 -1.42109e-14,-328.5 185,-328.5 185,-292.5 -1.42109e-14,-292.5\" stroke=\"black\"/>\n",
       "<text font-family=\"Times,serif\" font-size=\"14.00\" text-anchor=\"middle\" x=\"92.5\" y=\"-306.8\">avg_pool2: AveragePooling2D</text>\n",
       "</g>\n",
       "<!-- 140127876886032&#45;&gt;140126701424016 -->\n",
       "<g class=\"edge\" id=\"edge6\"><title>140127876886032-&gt;140126701424016</title>\n",
       "<path d=\"M92.5,-365.313C92.5,-357.289 92.5,-347.547 92.5,-338.569\" fill=\"none\" stroke=\"black\"/>\n",
       "<polygon fill=\"black\" points=\"96.0001,-338.529 92.5,-328.529 89.0001,-338.529 96.0001,-338.529\" stroke=\"black\"/>\n",
       "</g>\n",
       "<!-- 140126701829712 -->\n",
       "<g class=\"node\" id=\"node8\"><title>140126701829712</title>\n",
       "<polygon fill=\"none\" points=\"37.5,-219.5 37.5,-255.5 147.5,-255.5 147.5,-219.5 37.5,-219.5\" stroke=\"black\"/>\n",
       "<text font-family=\"Times,serif\" font-size=\"14.00\" text-anchor=\"middle\" x=\"92.5\" y=\"-233.8\">flatten_1: Flatten</text>\n",
       "</g>\n",
       "<!-- 140126701424016&#45;&gt;140126701829712 -->\n",
       "<g class=\"edge\" id=\"edge7\"><title>140126701424016-&gt;140126701829712</title>\n",
       "<path d=\"M92.5,-292.313C92.5,-284.289 92.5,-274.547 92.5,-265.569\" fill=\"none\" stroke=\"black\"/>\n",
       "<polygon fill=\"black\" points=\"96.0001,-265.529 92.5,-255.529 89.0001,-265.529 96.0001,-265.529\" stroke=\"black\"/>\n",
       "</g>\n",
       "<!-- 140126701826960 -->\n",
       "<g class=\"node\" id=\"node9\"><title>140126701826960</title>\n",
       "<polygon fill=\"none\" points=\"55,-146.5 55,-182.5 130,-182.5 130,-146.5 55,-146.5\" stroke=\"black\"/>\n",
       "<text font-family=\"Times,serif\" font-size=\"14.00\" text-anchor=\"middle\" x=\"92.5\" y=\"-160.8\">fc1: Dense</text>\n",
       "</g>\n",
       "<!-- 140126701829712&#45;&gt;140126701826960 -->\n",
       "<g class=\"edge\" id=\"edge8\"><title>140126701829712-&gt;140126701826960</title>\n",
       "<path d=\"M92.5,-219.313C92.5,-211.289 92.5,-201.547 92.5,-192.569\" fill=\"none\" stroke=\"black\"/>\n",
       "<polygon fill=\"black\" points=\"96.0001,-192.529 92.5,-182.529 89.0001,-192.529 96.0001,-192.529\" stroke=\"black\"/>\n",
       "</g>\n",
       "<!-- 140126702003920 -->\n",
       "<g class=\"node\" id=\"node10\"><title>140126702003920</title>\n",
       "<polygon fill=\"none\" points=\"55,-73.5 55,-109.5 130,-109.5 130,-73.5 55,-73.5\" stroke=\"black\"/>\n",
       "<text font-family=\"Times,serif\" font-size=\"14.00\" text-anchor=\"middle\" x=\"92.5\" y=\"-87.8\">fc2: Dense</text>\n",
       "</g>\n",
       "<!-- 140126701826960&#45;&gt;140126702003920 -->\n",
       "<g class=\"edge\" id=\"edge9\"><title>140126701826960-&gt;140126702003920</title>\n",
       "<path d=\"M92.5,-146.313C92.5,-138.289 92.5,-128.547 92.5,-119.569\" fill=\"none\" stroke=\"black\"/>\n",
       "<polygon fill=\"black\" points=\"96.0001,-119.529 92.5,-109.529 89.0001,-119.529 96.0001,-119.529\" stroke=\"black\"/>\n",
       "</g>\n",
       "<!-- 140126701584144 -->\n",
       "<g class=\"node\" id=\"node11\"><title>140126701584144</title>\n",
       "<polygon fill=\"none\" points=\"32.5,-0.5 32.5,-36.5 152.5,-36.5 152.5,-0.5 32.5,-0.5\" stroke=\"black\"/>\n",
       "<text font-family=\"Times,serif\" font-size=\"14.00\" text-anchor=\"middle\" x=\"92.5\" y=\"-14.8\">softmax-10: Dense</text>\n",
       "</g>\n",
       "<!-- 140126702003920&#45;&gt;140126701584144 -->\n",
       "<g class=\"edge\" id=\"edge10\"><title>140126702003920-&gt;140126701584144</title>\n",
       "<path d=\"M92.5,-73.3129C92.5,-65.2895 92.5,-55.5475 92.5,-46.5691\" fill=\"none\" stroke=\"black\"/>\n",
       "<polygon fill=\"black\" points=\"96.0001,-46.5288 92.5,-36.5288 89.0001,-46.5289 96.0001,-46.5288\" stroke=\"black\"/>\n",
       "</g>\n",
       "</g>\n",
       "</svg>"
      ],
      "text/plain": [
       "<IPython.core.display.SVG object>"
      ]
     },
     "execution_count": 14,
     "metadata": {},
     "output_type": "execute_result"
    }
   ],
   "source": [
    "plot_model(model, to_file='output/model.png')\n",
    "SVG(model_to_dot(model).create(prog='dot', format='svg'))"
   ]
  }
 ],
 "metadata": {
  "kernelspec": {
   "display_name": "Python 2",
   "language": "python",
   "name": "python2"
  },
  "language_info": {
   "codemirror_mode": {
    "name": "ipython",
    "version": 2
   },
   "file_extension": ".py",
   "mimetype": "text/x-python",
   "name": "python",
   "nbconvert_exporter": "python",
   "pygments_lexer": "ipython2",
   "version": "2.7.11"
  }
 },
 "nbformat": 4,
 "nbformat_minor": 0
}
