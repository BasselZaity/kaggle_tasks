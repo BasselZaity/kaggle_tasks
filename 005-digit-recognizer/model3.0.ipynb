{
 "cells": [
  {
   "cell_type": "markdown",
   "metadata": {},
   "source": [
    "# MINSET digin recognizer using MLP\n",
    "* generalization score (on kaggle)  0.977\n",
    "* training accuracy: 0.9946\n",
    "* validation accuracy: 0.9802\n",
    "\n",
    "## Model 2.1\n",
    "### Structure\n",
    "\n",
    "Use 200 neurons in hidden layers instead of 25,12 in model2 and add droup out with probability of 0.8\n",
    "\n",
    "- Input layer 784 elements\n",
    "- Hidden layer 1, 200 neurons, relu activation, dropout keep_prob=0.8\n",
    "- Hidden layer 2, 200 neurons, relu activation, dropout keep_prob=0.8\n",
    "- Output layer 10 neurons, sigmoid activation\n",
    "\n",
    "\n",
    "- Number of iterations 50\n",
    "- Loss function: categorical_crossentropy\n",
    "- Adam optimization algoithm for backpropogation\n",
    "    - learning rate 0.001\n"
   ]
  },
  {
   "cell_type": "code",
   "execution_count": 1,
   "metadata": {
    "collapsed": false
   },
   "outputs": [
    {
     "name": "stderr",
     "output_type": "stream",
     "text": [
      "/home/zein/.local/lib/python3.5/site-packages/h5py/__init__.py:36: FutureWarning: Conversion of the second argument of issubdtype from `float` to `np.floating` is deprecated. In future, it will be treated as `np.float64 == np.dtype(float).type`.\n",
      "  from ._conv import register_converters as _register_converters\n"
     ]
    }
   ],
   "source": [
    "from sklearn.metrics import accuracy_score\n",
    "from sklearn.preprocessing import OneHotEncoder\n",
    "import tensorflow as tf\n",
    "import numpy as np\n",
    "import matplotlib.pyplot as plt\n",
    "import pandas as pd\n",
    "from sklearn.model_selection import train_test_split"
   ]
  },
  {
   "cell_type": "code",
   "execution_count": 2,
   "metadata": {
    "collapsed": true
   },
   "outputs": [],
   "source": [
    "#helpers\n",
    "def convert_to_one_hot(Y, C):\n",
    "    Y = np.eye(C)[Y.reshape(-1)].T\n",
    "    return Y"
   ]
  },
  {
   "cell_type": "code",
   "execution_count": 3,
   "metadata": {
    "collapsed": false
   },
   "outputs": [
    {
     "name": "stdout",
     "output_type": "stream",
     "text": [
      "(42000, 784) (42000,)\n"
     ]
    }
   ],
   "source": [
    "train=pd.read_csv('./data/train.csv')\n",
    "test=pd.read_csv('./data/test.csv')\n",
    "\n",
    "trainLabels=train.label\n",
    "train.drop(\"label\",axis=1,inplace=True)\n",
    "\n",
    "train=train/256.0\n",
    "test=test/256.0\n",
    "Xtrain=train.as_matrix()\n",
    "Xtest=test.as_matrix()\n",
    "\n",
    "print( Xtrain.shape, trainLabels.shape)"
   ]
  },
  {
   "cell_type": "code",
   "execution_count": 4,
   "metadata": {
    "collapsed": false
   },
   "outputs": [
    {
     "name": "stderr",
     "output_type": "stream",
     "text": [
      "/home/zein/.local/lib/python3.5/site-packages/ipykernel_launcher.py:3: FutureWarning: reshape is deprecated and will raise in a subsequent release. Please use .values.reshape(...) instead\n",
      "  This is separate from the ipykernel package so we can avoid doing imports until\n"
     ]
    }
   ],
   "source": [
    "Xtrain, Xval, trainLabels, valLabels = train_test_split( Xtrain, trainLabels, test_size=0.1\n",
    "                                                        ,shuffle=True ,stratify=trainLabels)\n",
    "ytrain=convert_to_one_hot(trainLabels,10).T\n",
    "yval=convert_to_one_hot(valLabels,10).T"
   ]
  },
  {
   "cell_type": "code",
   "execution_count": 5,
   "metadata": {
    "collapsed": false
   },
   "outputs": [
    {
     "data": {
      "text/plain": [
       "(array([413., 468., 418., 435., 407., 380., 414., 440., 406., 419.]),\n",
       " array([0. , 0.9, 1.8, 2.7, 3.6, 4.5, 5.4, 6.3, 7.2, 8.1, 9. ]),\n",
       " <a list of 10 Patch objects>)"
      ]
     },
     "execution_count": 5,
     "metadata": {},
     "output_type": "execute_result"
    },
    {
     "data": {
      "image/png": "[encoded data removed]",
      "text/plain": [
       "<Figure size 432x288 with 2 Axes>"
      ]
     },
     "metadata": {},
     "output_type": "display_data"
    }
   ],
   "source": [
    "# Make sure of train_test_split work\n",
    "plt.figure(\"train/validation labels distribution\")\n",
    "plt.subplot(1,2,1)\n",
    "plt.title(\"Train\")\n",
    "plt.hist(trainLabels)\n",
    "plt.subplot(1,2,2)\n",
    "plt.title(\"Validation\")\n",
    "plt.hist(valLabels)"
   ]
  },
  {
   "cell_type": "code",
   "execution_count": 6,
   "metadata": {
    "collapsed": true
   },
   "outputs": [],
   "source": [
    "import tensorflow as tf\n",
    "s = tf.InteractiveSession()"
   ]
  },
  {
   "cell_type": "code",
   "execution_count": 7,
   "metadata": {
    "collapsed": false
   },
   "outputs": [
    {
     "name": "stderr",
     "output_type": "stream",
     "text": [
      "Using TensorFlow backend.\n"
     ]
    }
   ],
   "source": [
    "import keras\n",
    "from keras.models import Sequential\n",
    "import keras.layers as ll\n",
    "\n",
    "model = Sequential(name=\"mlp\")\n",
    "\n",
    "model.add(ll.InputLayer([28*28]))\n",
    "\n",
    "\n",
    "# network body\n",
    "model.add(ll.Dense(200))\n",
    "model.add(ll.Activation('relu'))\n",
    "model.add(ll.Dropout(0.2))\n",
    "\n",
    "model.add(ll.Dense(200))\n",
    "model.add(ll.Activation('relu'))\n",
    "model.add(ll.Dropout(0.2))\n",
    "\n",
    "# output layer: 10 neurons for each class with softmax\n",
    "model.add(ll.Dense(10, activation='softmax'))\n",
    "\n",
    "# categorical_crossentropy is your good old crossentropy\n",
    "# but applied for one-hot-encoded vectors\n",
    "model.compile(\"adam\", \"categorical_crossentropy\", metrics=[\"accuracy\"])"
   ]
  },
  {
   "cell_type": "code",
   "execution_count": 8,
   "metadata": {
    "collapsed": false,
    "scrolled": false
   },
   "outputs": [
    {
     "name": "stdout",
     "output_type": "stream",
     "text": [
      "Train on 37800 samples, validate on 4200 samples\n",
      "Epoch 1/50\n",
      "37800/37800 [==============================] - 11s 278us/step - loss: 0.3159 - acc: 0.9027 - val_loss: 0.1390 - val_acc: 0.9588\n",
      "Epoch 2/50\n",
      "37800/37800 [==============================] - 9s 227us/step - loss: 0.1451 - acc: 0.9555 - val_loss: 0.1163 - val_acc: 0.9662\n",
      "Epoch 3/50\n",
      "37800/37800 [==============================] - 8s 217us/step - loss: 0.1085 - acc: 0.9657 - val_loss: 0.0969 - val_acc: 0.9719\n",
      "Epoch 4/50\n",
      "37800/37800 [==============================] - 8s 204us/step - loss: 0.0871 - acc: 0.9719 - val_loss: 0.0989 - val_acc: 0.9695\n",
      "Epoch 5/50\n",
      "37800/37800 [==============================] - 7s 190us/step - loss: 0.0736 - acc: 0.9763 - val_loss: 0.0929 - val_acc: 0.9726\n",
      "Epoch 6/50\n",
      "37800/37800 [==============================] - 8s 208us/step - loss: 0.0656 - acc: 0.9781 - val_loss: 0.0920 - val_acc: 0.9717\n",
      "Epoch 7/50\n",
      "37800/37800 [==============================] - 9s 239us/step - loss: 0.0570 - acc: 0.9815 - val_loss: 0.0792 - val_acc: 0.9767\n",
      "Epoch 8/50\n",
      "37800/37800 [==============================] - 9s 231us/step - loss: 0.0509 - acc: 0.9833 - val_loss: 0.0847 - val_acc: 0.9762\n",
      "Epoch 9/50\n",
      "37800/37800 [==============================] - 9s 230us/step - loss: 0.0493 - acc: 0.9843 - val_loss: 0.0825 - val_acc: 0.9802\n",
      "Epoch 10/50\n",
      "37800/37800 [==============================] - 10s 268us/step - loss: 0.0442 - acc: 0.9859 - val_loss: 0.0910 - val_acc: 0.9767\n",
      "Epoch 11/50\n",
      "37800/37800 [==============================] - 9s 228us/step - loss: 0.0420 - acc: 0.9861 - val_loss: 0.0934 - val_acc: 0.9745\n",
      "Epoch 12/50\n",
      "37800/37800 [==============================] - 8s 225us/step - loss: 0.0423 - acc: 0.9864 - val_loss: 0.0821 - val_acc: 0.9793\n",
      "Epoch 13/50\n",
      "37800/37800 [==============================] - 7s 195us/step - loss: 0.0349 - acc: 0.9882 - val_loss: 0.1024 - val_acc: 0.9757\n",
      "Epoch 14/50\n",
      "37800/37800 [==============================] - 11s 304us/step - loss: 0.0335 - acc: 0.9889 - val_loss: 0.0917 - val_acc: 0.9781\n",
      "Epoch 15/50\n",
      "37800/37800 [==============================] - 12s 309us/step - loss: 0.0373 - acc: 0.9875 - val_loss: 0.0831 - val_acc: 0.9802\n",
      "Epoch 16/50\n",
      "37800/37800 [==============================] - 10s 260us/step - loss: 0.0310 - acc: 0.9899 - val_loss: 0.0824 - val_acc: 0.9812\n",
      "Epoch 17/50\n",
      "37800/37800 [==============================] - 11s 286us/step - loss: 0.0327 - acc: 0.9893 - val_loss: 0.0972 - val_acc: 0.9783\n",
      "Epoch 18/50\n",
      "37800/37800 [==============================] - 12s 328us/step - loss: 0.0310 - acc: 0.9897 - val_loss: 0.0812 - val_acc: 0.9793\n",
      "Epoch 19/50\n",
      "37800/37800 [==============================] - 12s 312us/step - loss: 0.0283 - acc: 0.9911 - val_loss: 0.0900 - val_acc: 0.9781\n",
      "Epoch 20/50\n",
      "37800/37800 [==============================] - 9s 249us/step - loss: 0.0275 - acc: 0.9912 - val_loss: 0.0960 - val_acc: 0.9776\n",
      "Epoch 21/50\n",
      "37800/37800 [==============================] - 8s 205us/step - loss: 0.0283 - acc: 0.9913 - val_loss: 0.0867 - val_acc: 0.9800\n",
      "Epoch 22/50\n",
      "37800/37800 [==============================] - 8s 199us/step - loss: 0.0249 - acc: 0.9919 - val_loss: 0.1123 - val_acc: 0.9755\n",
      "Epoch 23/50\n",
      "37800/37800 [==============================] - 11s 285us/step - loss: 0.0261 - acc: 0.9918 - val_loss: 0.1034 - val_acc: 0.9788\n",
      "Epoch 24/50\n",
      "37800/37800 [==============================] - 15s 402us/step - loss: 0.0283 - acc: 0.9913 - val_loss: 0.0945 - val_acc: 0.9779\n",
      "Epoch 25/50\n",
      "37800/37800 [==============================] - 8s 211us/step - loss: 0.0232 - acc: 0.9922 - val_loss: 0.1094 - val_acc: 0.9769\n",
      "Epoch 26/50\n",
      "37800/37800 [==============================] - 7s 198us/step - loss: 0.0243 - acc: 0.9925 - val_loss: 0.0975 - val_acc: 0.9776\n",
      "Epoch 27/50\n",
      "37800/37800 [==============================] - 9s 246us/step - loss: 0.0249 - acc: 0.9926 - val_loss: 0.1054 - val_acc: 0.9769\n",
      "Epoch 28/50\n",
      "37800/37800 [==============================] - 12s 309us/step - loss: 0.0225 - acc: 0.9930 - val_loss: 0.1132 - val_acc: 0.9767\n",
      "Epoch 29/50\n",
      "37800/37800 [==============================] - 8s 216us/step - loss: 0.0221 - acc: 0.9933 - val_loss: 0.0899 - val_acc: 0.9802\n",
      "Epoch 30/50\n",
      "37800/37800 [==============================] - 7s 197us/step - loss: 0.0241 - acc: 0.9928 - val_loss: 0.1019 - val_acc: 0.9798\n",
      "Epoch 31/50\n",
      "37800/37800 [==============================] - 9s 226us/step - loss: 0.0232 - acc: 0.9931 - val_loss: 0.1088 - val_acc: 0.9783\n",
      "Epoch 32/50\n",
      "37800/37800 [==============================] - 11s 281us/step - loss: 0.0239 - acc: 0.9926 - val_loss: 0.1001 - val_acc: 0.9805\n",
      "Epoch 33/50\n",
      "37800/37800 [==============================] - 10s 272us/step - loss: 0.0200 - acc: 0.9935 - val_loss: 0.0992 - val_acc: 0.9802\n",
      "Epoch 34/50\n",
      "37800/37800 [==============================] - 10s 264us/step - loss: 0.0203 - acc: 0.9936 - val_loss: 0.1125 - val_acc: 0.9776\n",
      "Epoch 35/50\n",
      "37800/37800 [==============================] - 12s 331us/step - loss: 0.0218 - acc: 0.9934 - val_loss: 0.1089 - val_acc: 0.9812\n",
      "Epoch 36/50\n",
      "37800/37800 [==============================] - 10s 255us/step - loss: 0.0241 - acc: 0.9932 - val_loss: 0.1040 - val_acc: 0.9800\n",
      "Epoch 37/50\n",
      "37800/37800 [==============================] - 10s 260us/step - loss: 0.0203 - acc: 0.9944 - val_loss: 0.1103 - val_acc: 0.9800\n",
      "Epoch 38/50\n",
      "37800/37800 [==============================] - 12s 322us/step - loss: 0.0192 - acc: 0.9940 - val_loss: 0.1034 - val_acc: 0.9810\n",
      "Epoch 39/50\n",
      "37800/37800 [==============================] - 9s 241us/step - loss: 0.0204 - acc: 0.9940 - val_loss: 0.1039 - val_acc: 0.9805\n",
      "Epoch 40/50\n",
      "37800/37800 [==============================] - 9s 248us/step - loss: 0.0202 - acc: 0.9942 - val_loss: 0.1096 - val_acc: 0.9800\n",
      "Epoch 41/50\n",
      "37800/37800 [==============================] - 12s 310us/step - loss: 0.0215 - acc: 0.9934 - val_loss: 0.1069 - val_acc: 0.9802\n",
      "Epoch 42/50\n",
      "37800/37800 [==============================] - 12s 308us/step - loss: 0.0211 - acc: 0.9938 - val_loss: 0.1083 - val_acc: 0.9817\n",
      "Epoch 43/50\n",
      "37800/37800 [==============================] - 15s 388us/step - loss: 0.0188 - acc: 0.9945 - val_loss: 0.1247 - val_acc: 0.9790\n",
      "Epoch 44/50\n",
      "37800/37800 [==============================] - 15s 389us/step - loss: 0.0196 - acc: 0.9945 - val_loss: 0.1239 - val_acc: 0.9800\n",
      "Epoch 45/50\n",
      "37800/37800 [==============================] - 17s 463us/step - loss: 0.0211 - acc: 0.9938 - val_loss: 0.1215 - val_acc: 0.9795\n",
      "Epoch 46/50\n",
      "37800/37800 [==============================] - 20s 525us/step - loss: 0.0159 - acc: 0.9955 - val_loss: 0.1290 - val_acc: 0.9790\n",
      "Epoch 47/50\n",
      "37800/37800 [==============================] - 17s 446us/step - loss: 0.0213 - acc: 0.9936 - val_loss: 0.1184 - val_acc: 0.9800\n",
      "Epoch 48/50\n",
      "37800/37800 [==============================] - 13s 344us/step - loss: 0.0209 - acc: 0.9943 - val_loss: 0.1412 - val_acc: 0.9776\n",
      "Epoch 49/50\n",
      "37800/37800 [==============================] - 20s 541us/step - loss: 0.0167 - acc: 0.9951 - val_loss: 0.1267 - val_acc: 0.9776\n",
      "Epoch 50/50\n",
      "37800/37800 [==============================] - 21s 556us/step - loss: 0.0206 - acc: 0.9946 - val_loss: 0.1174 - val_acc: 0.9802\n"
     ]
    }
   ],
   "source": [
    "model.fit(Xtrain, ytrain,\n",
    "          validation_data=(Xval, yval), epochs=50);"
   ]
  },
  {
   "cell_type": "code",
   "execution_count": 9,
   "metadata": {
    "collapsed": true
   },
   "outputs": [],
   "source": [
    "predictions=model.predict(test)\n",
    "numbers=np.argmax(predictions,axis=1)"
   ]
  },
  {
   "cell_type": "code",
   "execution_count": 10,
   "metadata": {
    "collapsed": false
   },
   "outputs": [],
   "source": [
    "ids=np.arange(1,numbers.shape[0]+1)\n",
    "df = pd.DataFrame({'ImageId':ids, 'Label': numbers})\n",
    "\n",
    "df.to_csv(\"output/model3.0.csv\", index=False)"
   ]
  },
  {
   "cell_type": "markdown",
   "metadata": {},
   "source": [
    "### details about this model"
   ]
  },
  {
   "cell_type": "code",
   "execution_count": 11,
   "metadata": {
    "collapsed": false
   },
   "outputs": [
    {
     "name": "stdout",
     "output_type": "stream",
     "text": [
      "_________________________________________________________________\n",
      "Layer (type)                 Output Shape              Param #   \n",
      "=================================================================\n",
      "input_1 (InputLayer)         (None, 784)               0         \n",
      "_________________________________________________________________\n",
      "dense_1 (Dense)              (None, 200)               157000    \n",
      "_________________________________________________________________\n",
      "activation_1 (Activation)    (None, 200)               0         \n",
      "_________________________________________________________________\n",
      "dropout_1 (Dropout)          (None, 200)               0         \n",
      "_________________________________________________________________\n",
      "dense_2 (Dense)              (None, 200)               40200     \n",
      "_________________________________________________________________\n",
      "activation_2 (Activation)    (None, 200)               0         \n",
      "_________________________________________________________________\n",
      "dropout_2 (Dropout)          (None, 200)               0         \n",
      "_________________________________________________________________\n",
      "dense_3 (Dense)              (None, 10)                2010      \n",
      "=================================================================\n",
      "Total params: 199,210\n",
      "Trainable params: 199,210\n",
      "Non-trainable params: 0\n",
      "_________________________________________________________________\n"
     ]
    }
   ],
   "source": [
    "model.summary()"
   ]
  },
  {
   "cell_type": "code",
   "execution_count": 12,
   "metadata": {
    "collapsed": false
   },
   "outputs": [
    {
     "data": {
      "image/svg+xml": [
       "<svg height=\"556pt\" viewBox=\"0.00 0.00 156.00 556.00\" width=\"156pt\" xmlns=\"http://www.w3.org/2000/svg\" xmlns:xlink=\"http://www.w3.org/1999/xlink\">\n",
       "<g class=\"graph\" id=\"graph0\" transform=\"scale(1 1) rotate(0) translate(4 552)\">\n",
       "<title>G</title>\n",
       "<polygon fill=\"white\" points=\"-4,4 -4,-552 152,-552 152,4 -4,4\" stroke=\"none\"/>\n",
       "<!-- 140151220078688 -->\n",
       "<g class=\"node\" id=\"node1\"><title>140151220078688</title>\n",
       "<polygon fill=\"none\" points=\"11.5,-511.5 11.5,-547.5 136.5,-547.5 136.5,-511.5 11.5,-511.5\" stroke=\"black\"/>\n",
       "<text font-family=\"Times,serif\" font-size=\"14.00\" text-anchor=\"middle\" x=\"74\" y=\"-525.8\">input_1: InputLayer</text>\n",
       "</g>\n",
       "<!-- 140151220078800 -->\n",
       "<g class=\"node\" id=\"node2\"><title>140151220078800</title>\n",
       "<polygon fill=\"none\" points=\"23,-438.5 23,-474.5 125,-474.5 125,-438.5 23,-438.5\" stroke=\"black\"/>\n",
       "<text font-family=\"Times,serif\" font-size=\"14.00\" text-anchor=\"middle\" x=\"74\" y=\"-452.8\">dense_1: Dense</text>\n",
       "</g>\n",
       "<!-- 140151220078688&#45;&gt;140151220078800 -->\n",
       "<g class=\"edge\" id=\"edge1\"><title>140151220078688-&gt;140151220078800</title>\n",
       "<path d=\"M74,-511.313C74,-503.289 74,-493.547 74,-484.569\" fill=\"none\" stroke=\"black\"/>\n",
       "<polygon fill=\"black\" points=\"77.5001,-484.529 74,-474.529 70.5001,-484.529 77.5001,-484.529\" stroke=\"black\"/>\n",
       "</g>\n",
       "<!-- 140151232347888 -->\n",
       "<g class=\"node\" id=\"node3\"><title>140151232347888</title>\n",
       "<polygon fill=\"none\" points=\"0,-365.5 0,-401.5 148,-401.5 148,-365.5 0,-365.5\" stroke=\"black\"/>\n",
       "<text font-family=\"Times,serif\" font-size=\"14.00\" text-anchor=\"middle\" x=\"74\" y=\"-379.8\">activation_1: Activation</text>\n",
       "</g>\n",
       "<!-- 140151220078800&#45;&gt;140151232347888 -->\n",
       "<g class=\"edge\" id=\"edge2\"><title>140151220078800-&gt;140151232347888</title>\n",
       "<path d=\"M74,-438.313C74,-430.289 74,-420.547 74,-411.569\" fill=\"none\" stroke=\"black\"/>\n",
       "<polygon fill=\"black\" points=\"77.5001,-411.529 74,-401.529 70.5001,-411.529 77.5001,-411.529\" stroke=\"black\"/>\n",
       "</g>\n",
       "<!-- 140151232347104 -->\n",
       "<g class=\"node\" id=\"node4\"><title>140151232347104</title>\n",
       "<polygon fill=\"none\" points=\"11.5,-292.5 11.5,-328.5 136.5,-328.5 136.5,-292.5 11.5,-292.5\" stroke=\"black\"/>\n",
       "<text font-family=\"Times,serif\" font-size=\"14.00\" text-anchor=\"middle\" x=\"74\" y=\"-306.8\">dropout_1: Dropout</text>\n",
       "</g>\n",
       "<!-- 140151232347888&#45;&gt;140151232347104 -->\n",
       "<g class=\"edge\" id=\"edge3\"><title>140151232347888-&gt;140151232347104</title>\n",
       "<path d=\"M74,-365.313C74,-357.289 74,-347.547 74,-338.569\" fill=\"none\" stroke=\"black\"/>\n",
       "<polygon fill=\"black\" points=\"77.5001,-338.529 74,-328.529 70.5001,-338.529 77.5001,-338.529\" stroke=\"black\"/>\n",
       "</g>\n",
       "<!-- 140151232348056 -->\n",
       "<g class=\"node\" id=\"node5\"><title>140151232348056</title>\n",
       "<polygon fill=\"none\" points=\"23,-219.5 23,-255.5 125,-255.5 125,-219.5 23,-219.5\" stroke=\"black\"/>\n",
       "<text font-family=\"Times,serif\" font-size=\"14.00\" text-anchor=\"middle\" x=\"74\" y=\"-233.8\">dense_2: Dense</text>\n",
       "</g>\n",
       "<!-- 140151232347104&#45;&gt;140151232348056 -->\n",
       "<g class=\"edge\" id=\"edge4\"><title>140151232347104-&gt;140151232348056</title>\n",
       "<path d=\"M74,-292.313C74,-284.289 74,-274.547 74,-265.569\" fill=\"none\" stroke=\"black\"/>\n",
       "<polygon fill=\"black\" points=\"77.5001,-265.529 74,-255.529 70.5001,-265.529 77.5001,-265.529\" stroke=\"black\"/>\n",
       "</g>\n",
       "<!-- 140151232347048 -->\n",
       "<g class=\"node\" id=\"node6\"><title>140151232347048</title>\n",
       "<polygon fill=\"none\" points=\"0,-146.5 0,-182.5 148,-182.5 148,-146.5 0,-146.5\" stroke=\"black\"/>\n",
       "<text font-family=\"Times,serif\" font-size=\"14.00\" text-anchor=\"middle\" x=\"74\" y=\"-160.8\">activation_2: Activation</text>\n",
       "</g>\n",
       "<!-- 140151232348056&#45;&gt;140151232347048 -->\n",
       "<g class=\"edge\" id=\"edge5\"><title>140151232348056-&gt;140151232347048</title>\n",
       "<path d=\"M74,-219.313C74,-211.289 74,-201.547 74,-192.569\" fill=\"none\" stroke=\"black\"/>\n",
       "<polygon fill=\"black\" points=\"77.5001,-192.529 74,-182.529 70.5001,-192.529 77.5001,-192.529\" stroke=\"black\"/>\n",
       "</g>\n",
       "<!-- 140151220080368 -->\n",
       "<g class=\"node\" id=\"node7\"><title>140151220080368</title>\n",
       "<polygon fill=\"none\" points=\"11.5,-73.5 11.5,-109.5 136.5,-109.5 136.5,-73.5 11.5,-73.5\" stroke=\"black\"/>\n",
       "<text font-family=\"Times,serif\" font-size=\"14.00\" text-anchor=\"middle\" x=\"74\" y=\"-87.8\">dropout_2: Dropout</text>\n",
       "</g>\n",
       "<!-- 140151232347048&#45;&gt;140151220080368 -->\n",
       "<g class=\"edge\" id=\"edge6\"><title>140151232347048-&gt;140151220080368</title>\n",
       "<path d=\"M74,-146.313C74,-138.289 74,-128.547 74,-119.569\" fill=\"none\" stroke=\"black\"/>\n",
       "<polygon fill=\"black\" points=\"77.5001,-119.529 74,-109.529 70.5001,-119.529 77.5001,-119.529\" stroke=\"black\"/>\n",
       "</g>\n",
       "<!-- 140151232077608 -->\n",
       "<g class=\"node\" id=\"node8\"><title>140151232077608</title>\n",
       "<polygon fill=\"none\" points=\"23,-0.5 23,-36.5 125,-36.5 125,-0.5 23,-0.5\" stroke=\"black\"/>\n",
       "<text font-family=\"Times,serif\" font-size=\"14.00\" text-anchor=\"middle\" x=\"74\" y=\"-14.8\">dense_3: Dense</text>\n",
       "</g>\n",
       "<!-- 140151220080368&#45;&gt;140151232077608 -->\n",
       "<g class=\"edge\" id=\"edge7\"><title>140151220080368-&gt;140151232077608</title>\n",
       "<path d=\"M74,-73.3129C74,-65.2895 74,-55.5475 74,-46.5691\" fill=\"none\" stroke=\"black\"/>\n",
       "<polygon fill=\"black\" points=\"77.5001,-46.5288 74,-36.5288 70.5001,-46.5289 77.5001,-46.5288\" stroke=\"black\"/>\n",
       "</g>\n",
       "</g>\n",
       "</svg>"
      ],
      "text/plain": [
       "<IPython.core.display.SVG object>"
      ]
     },
     "execution_count": 12,
     "metadata": {},
     "output_type": "execute_result"
    }
   ],
   "source": [
    "from keras.utils import plot_model\n",
    "from IPython.display import SVG\n",
    "from keras.utils.vis_utils import model_to_dot\n",
    "plot_model(model, to_file='output/model3.0.png')\n",
    "SVG(model_to_dot(model).create(prog='dot', format='svg'))"
   ]
  },
  {
   "cell_type": "code",
   "execution_count": 14,
   "metadata": {
    "collapsed": true
   },
   "outputs": [],
   "source": [
    "# Save trained weights\n",
    "model.save(\"model3.0.h5\")"
   ]
  }
 ],
 "metadata": {
  "kernelspec": {
   "display_name": "Python 3",
   "language": "python",
   "name": "python3"
  },
  "language_info": {
   "codemirror_mode": {
    "name": "ipython",
    "version": 3
   },
   "file_extension": ".py",
   "mimetype": "text/x-python",
   "name": "python",
   "nbconvert_exporter": "python",
   "pygments_lexer": "ipython3",
   "version": "3.5.2"
  }
 },
 "nbformat": 4,
 "nbformat_minor": 0
}
